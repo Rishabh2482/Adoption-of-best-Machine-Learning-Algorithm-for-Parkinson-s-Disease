{
  "nbformat": 4,
  "nbformat_minor": 0,
  "metadata": {
    "colab": {
      "provenance": [],
      "gpuType": "T4",
      "authorship_tag": "ABX9TyOSKwTtlx2w7shB1groQqXh",
      "include_colab_link": true
    },
    "kernelspec": {
      "name": "python3",
      "display_name": "Python 3"
    },
    "language_info": {
      "name": "python"
    },
    "accelerator": "GPU"
  },
  "cells": [
    {
      "cell_type": "markdown",
      "metadata": {
        "id": "view-in-github",
        "colab_type": "text"
      },
      "source": [
        "<a href=\"https://colab.research.google.com/github/Rishabh2482/Adoption-of-best-Machine-Learning-Algorithm-for-Parkinson-s-Disease/blob/main/Case_study_challenge_1.ipynb\" target=\"_parent\"><img src=\"https://colab.research.google.com/assets/colab-badge.svg\" alt=\"Open In Colab\"/></a>"
      ]
    },
    {
      "cell_type": "markdown",
      "source": [
        "# Question -1"
      ],
      "metadata": {
        "id": "C9oCxgFoVJYt"
      }
    },
    {
      "cell_type": "code",
      "execution_count": 5,
      "metadata": {
        "colab": {
          "base_uri": "https://localhost:8080/"
        },
        "id": "jS6DWNpgUH1V",
        "outputId": "a99b0fc6-a7bf-4803-ab60-b30a559fe5d1"
      },
      "outputs": [
        {
          "output_type": "stream",
          "name": "stdout",
          "text": [
            "Confirmed Cases:\n",
            "  Province/State Country/Region       Lat       Long  1/22/20  1/23/20  \\\n",
            "0            NaN    Afghanistan  33.93911  67.709953        0        0   \n",
            "1            NaN        Albania  41.15330  20.168300        0        0   \n",
            "2            NaN        Algeria  28.03390   1.659600        0        0   \n",
            "3            NaN        Andorra  42.50630   1.521800        0        0   \n",
            "4            NaN         Angola -11.20270  17.873900        0        0   \n",
            "\n",
            "   1/24/20  1/25/20  1/26/20  1/27/20  ...  5/20/21  5/21/21  5/22/21  \\\n",
            "0        0        0        0        0  ...    64575    65080    65486   \n",
            "1        0        0        0        0  ...   132118   132153   132176   \n",
            "2        0        0        0        0  ...   126156   126434   126651   \n",
            "3        0        0        0        0  ...    13569    13569    13569   \n",
            "4        0        0        0        0  ...    31661    31909    32149   \n",
            "\n",
            "   5/23/21  5/24/21  5/25/21  5/26/21  5/27/21  5/28/21  5/29/21  \n",
            "0    65728    66275    66903    67743    68366    69130    70111  \n",
            "1   132209   132215   132229   132244   132264   132285   132297  \n",
            "2   126860   127107   127361   127646   127926   128198   128456  \n",
            "3    13569    13569    13664    13671    13682    13693    13693  \n",
            "4    32441    32623    32933    33338    33607    33944    34180  \n",
            "\n",
            "[5 rows x 498 columns]\n"
          ]
        }
      ],
      "source": [
        "import pandas as pd\n",
        "import numpy as np\n",
        "\n",
        "# file read\n",
        "confirmed = pd.read_csv('/content/covid_19_confirmed_v1_lyst1747728690432.csv')\n",
        "deaths = pd.read_csv('/content/covid_19_deaths_v1_lyst1747728711771.csv', header=1)\n",
        "recovered = pd.read_csv('/content/covid_19_recovered_v1_lyst1747728719904.csv', header=1)\n",
        "\n",
        "# Display the first few rows of each dataset\n",
        "print(\"Confirmed Cases:\")\n",
        "print(confirmed.head())"
      ]
    },
    {
      "cell_type": "code",
      "source": [
        "print(\"\\nDeaths:\")\n",
        "print(deaths.head())\n"
      ],
      "metadata": {
        "colab": {
          "base_uri": "https://localhost:8080/"
        },
        "id": "5nQcxDoAVNvA",
        "outputId": "18e166df-8f28-4664-dbf3-26db25c9653f"
      },
      "execution_count": 6,
      "outputs": [
        {
          "output_type": "stream",
          "name": "stdout",
          "text": [
            "\n",
            "Deaths:\n",
            "  Province/State Country/Region       Lat       Long  1/22/20  1/23/20  \\\n",
            "0            NaN    Afghanistan  33.93911  67.709953        0        0   \n",
            "1            NaN        Albania  41.15330  20.168300        0        0   \n",
            "2            NaN        Algeria  28.03390   1.659600        0        0   \n",
            "3            NaN        Andorra  42.50630   1.521800        0        0   \n",
            "4            NaN         Angola -11.20270  17.873900        0        0   \n",
            "\n",
            "   1/24/20  1/25/20  1/26/20  1/27/20  ...  5/20/21  5/21/21  5/22/21  \\\n",
            "0        0        0        0        0  ...     2772     2782     2792   \n",
            "1        0        0        0        0  ...     2440     2441     2442   \n",
            "2        0        0        0        0  ...     3401     3405     3411   \n",
            "3        0        0        0        0  ...      127      127      127   \n",
            "4        0        0        0        0  ...      704      709      715   \n",
            "\n",
            "   5/23/21  5/24/21  5/25/21  5/26/21  5/27/21  5/28/21  5/29/21  \n",
            "0     2802     2812     2836     2855     2869     2881     2899  \n",
            "1     2444     2445     2447     2447     2447     2448     2449  \n",
            "2     3418     3426     3433     3440     3448     3455     3460  \n",
            "3      127      127      127      127      127      127      127  \n",
            "4      725      731      735      742      745      749      757  \n",
            "\n",
            "[5 rows x 498 columns]\n"
          ]
        }
      ]
    },
    {
      "cell_type": "code",
      "source": [
        "print(\"\\nRecovered:\")\n",
        "print(recovered.head())"
      ],
      "metadata": {
        "colab": {
          "base_uri": "https://localhost:8080/"
        },
        "id": "XvXFiqXoVXZ1",
        "outputId": "eba86cc3-5545-4750-e467-cbea39c501fd"
      },
      "execution_count": 7,
      "outputs": [
        {
          "output_type": "stream",
          "name": "stdout",
          "text": [
            "\n",
            "Recovered:\n",
            "  Province/State Country/Region       Lat       Long  1/22/20  1/23/20  \\\n",
            "0            NaN    Afghanistan  33.93911  67.709953        0        0   \n",
            "1            NaN        Albania  41.15330  20.168300        0        0   \n",
            "2            NaN        Algeria  28.03390   1.659600        0        0   \n",
            "3            NaN        Andorra  42.50630   1.521800        0        0   \n",
            "4            NaN         Angola -11.20270  17.873900        0        0   \n",
            "\n",
            "   1/24/20  1/25/20  1/26/20  1/27/20  ...  5/20/21  5/21/21  5/22/21  \\\n",
            "0        0        0        0        0  ...    55687    55790    55889   \n",
            "1        0        0        0        0  ...   127869   128425   128601   \n",
            "2        0        0        0        0  ...    87902    88066    88208   \n",
            "3        0        0        0        0  ...    13234    13234    13234   \n",
            "4        0        0        0        0  ...    26483    26513    26775   \n",
            "\n",
            "   5/23/21  5/24/21  5/25/21  5/26/21  5/27/21  5/28/21  5/29/21  \n",
            "0    56035    56295    56518    56711    56962    57119    57281  \n",
            "1   128732   128826   128907   128978   129042   129097   129215  \n",
            "2    88346    88497    88672    88861    89040    89232    89419  \n",
            "3    13234    13234    13263    13381    13405    13416    13416  \n",
            "4    26778    27087    27204    27467    27529    27577    27646  \n",
            "\n",
            "[5 rows x 498 columns]\n"
          ]
        }
      ]
    },
    {
      "cell_type": "markdown",
      "source": [
        "# Queston-2"
      ],
      "metadata": {
        "id": "QWysOhFXEV6C"
      }
    },
    {
      "cell_type": "markdown",
      "source": [
        "# Question -2.1   Structure:- Row, Coloumn, data size"
      ],
      "metadata": {
        "id": "yevvg0CFVa1N"
      }
    },
    {
      "cell_type": "code",
      "source": [
        "def structure(df, name):\n",
        "    print(f\"\\n{name} shape: {df.shape}\")\n",
        "    print(f\"{name} columns: {df.columns.tolist()}\")\n",
        "    print(f\"{name} data types:\\n{df.dtypes}\")\n",
        "\n",
        "structure(confirmed, \"Confirmed\")\n",
        "print('\\n')\n",
        "structure(deaths, \"Deaths\")\n",
        "print('\\n')\n",
        "structure(recovered, \"Recovered\")"
      ],
      "metadata": {
        "colab": {
          "base_uri": "https://localhost:8080/"
        },
        "id": "aA8-g9mIVYcJ",
        "outputId": "47a364e8-3fd1-4f1a-c1df-eeb35da3852e"
      },
      "execution_count": 8,
      "outputs": [
        {
          "output_type": "stream",
          "name": "stdout",
          "text": [
            "\n",
            "Confirmed shape: (276, 498)\n",
            "Confirmed columns: ['Province/State', 'Country/Region', 'Lat', 'Long', '1/22/20', '1/23/20', '1/24/20', '1/25/20', '1/26/20', '1/27/20', '1/28/20', '1/29/20', '1/30/20', '1/31/20', '2/1/20', '2/2/20', '2/3/20', '2/4/20', '2/5/20', '2/6/20', '2/7/20', '2/8/20', '2/9/20', '2/10/20', '2/11/20', '2/12/20', '2/13/20', '2/14/20', '2/15/20', '2/16/20', '2/17/20', '2/18/20', '2/19/20', '2/20/20', '2/21/20', '2/22/20', '2/23/20', '2/24/20', '2/25/20', '2/26/20', '2/27/20', '2/28/20', '2/29/20', '3/1/20', '3/2/20', '3/3/20', '3/4/20', '3/5/20', '3/6/20', '3/7/20', '3/8/20', '3/9/20', '3/10/20', '3/11/20', '3/12/20', '3/13/20', '3/14/20', '3/15/20', '3/16/20', '3/17/20', '3/18/20', '3/19/20', '3/20/20', '3/21/20', '3/22/20', '3/23/20', '3/24/20', '3/25/20', '3/26/20', '3/27/20', '3/28/20', '3/29/20', '3/30/20', '3/31/20', '4/1/20', '4/2/20', '4/3/20', '4/4/20', '4/5/20', '4/6/20', '4/7/20', '4/8/20', '4/9/20', '4/10/20', '4/11/20', '4/12/20', '4/13/20', '4/14/20', '4/15/20', '4/16/20', '4/17/20', '4/18/20', '4/19/20', '4/20/20', '4/21/20', '4/22/20', '4/23/20', '4/24/20', '4/25/20', '4/26/20', '4/27/20', '4/28/20', '4/29/20', '4/30/20', '5/1/20', '5/2/20', '5/3/20', '5/4/20', '5/5/20', '5/6/20', '5/7/20', '5/8/20', '5/9/20', '5/10/20', '5/11/20', '5/12/20', '5/13/20', '5/14/20', '5/15/20', '5/16/20', '5/17/20', '5/18/20', '5/19/20', '5/20/20', '5/21/20', '5/22/20', '5/23/20', '5/24/20', '5/25/20', '5/26/20', '5/27/20', '5/28/20', '5/29/20', '5/30/20', '5/31/20', '6/1/20', '6/2/20', '6/3/20', '6/4/20', '6/5/20', '6/6/20', '6/7/20', '6/8/20', '6/9/20', '6/10/20', '6/11/20', '6/12/20', '6/13/20', '6/14/20', '6/15/20', '6/16/20', '6/17/20', '6/18/20', '6/19/20', '6/20/20', '6/21/20', '6/22/20', '6/23/20', '6/24/20', '6/25/20', '6/26/20', '6/27/20', '6/28/20', '6/29/20', '6/30/20', '7/1/20', '7/2/20', '7/3/20', '7/4/20', '7/5/20', '7/6/20', '7/7/20', '7/8/20', '7/9/20', '7/10/20', '7/11/20', '7/12/20', '7/13/20', '7/14/20', '7/15/20', '7/16/20', '7/17/20', '7/18/20', '7/19/20', '7/20/20', '7/21/20', '7/22/20', '7/23/20', '7/24/20', '7/25/20', '7/26/20', '7/27/20', '7/28/20', '7/29/20', '7/30/20', '7/31/20', '8/1/20', '8/2/20', '8/3/20', '8/4/20', '8/5/20', '8/6/20', '8/7/20', '8/8/20', '8/9/20', '8/10/20', '8/11/20', '8/12/20', '8/13/20', '8/14/20', '8/15/20', '8/16/20', '8/17/20', '8/18/20', '8/19/20', '8/20/20', '8/21/20', '8/22/20', '8/23/20', '8/24/20', '8/25/20', '8/26/20', '8/27/20', '8/28/20', '8/29/20', '8/30/20', '8/31/20', '9/1/20', '9/2/20', '9/3/20', '9/4/20', '9/5/20', '9/6/20', '9/7/20', '9/8/20', '9/9/20', '9/10/20', '9/11/20', '9/12/20', '9/13/20', '9/14/20', '9/15/20', '9/16/20', '9/17/20', '9/18/20', '9/19/20', '9/20/20', '9/21/20', '9/22/20', '9/23/20', '9/24/20', '9/25/20', '9/26/20', '9/27/20', '9/28/20', '9/29/20', '9/30/20', '10/1/20', '10/2/20', '10/3/20', '10/4/20', '10/5/20', '10/6/20', '10/7/20', '10/8/20', '10/9/20', '10/10/20', '10/11/20', '10/12/20', '10/13/20', '10/14/20', '10/15/20', '10/16/20', '10/17/20', '10/18/20', '10/19/20', '10/20/20', '10/21/20', '10/22/20', '10/23/20', '10/24/20', '10/25/20', '10/26/20', '10/27/20', '10/28/20', '10/29/20', '10/30/20', '10/31/20', '11/1/20', '11/2/20', '11/3/20', '11/4/20', '11/5/20', '11/6/20', '11/7/20', '11/8/20', '11/9/20', '11/10/20', '11/11/20', '11/12/20', '11/13/20', '11/14/20', '11/15/20', '11/16/20', '11/17/20', '11/18/20', '11/19/20', '11/20/20', '11/21/20', '11/22/20', '11/23/20', '11/24/20', '11/25/20', '11/26/20', '11/27/20', '11/28/20', '11/29/20', '11/30/20', '12/1/20', '12/2/20', '12/3/20', '12/4/20', '12/5/20', '12/6/20', '12/7/20', '12/8/20', '12/9/20', '12/10/20', '12/11/20', '12/12/20', '12/13/20', '12/14/20', '12/15/20', '12/16/20', '12/17/20', '12/18/20', '12/19/20', '12/20/20', '12/21/20', '12/22/20', '12/23/20', '12/24/20', '12/25/20', '12/26/20', '12/27/20', '12/28/20', '12/29/20', '12/30/20', '12/31/20', '1/1/21', '1/2/21', '1/3/21', '1/4/21', '1/5/21', '1/6/21', '1/7/21', '1/8/21', '1/9/21', '1/10/21', '1/11/21', '1/12/21', '1/13/21', '1/14/21', '1/15/21', '1/16/21', '1/17/21', '1/18/21', '1/19/21', '1/20/21', '1/21/21', '1/22/21', '1/23/21', '1/24/21', '1/25/21', '1/26/21', '1/27/21', '1/28/21', '1/29/21', '1/30/21', '1/31/21', '2/1/21', '2/2/21', '2/3/21', '2/4/21', '2/5/21', '2/6/21', '2/7/21', '2/8/21', '2/9/21', '2/10/21', '2/11/21', '2/12/21', '2/13/21', '2/14/21', '2/15/21', '2/16/21', '2/17/21', '2/18/21', '2/19/21', '2/20/21', '2/21/21', '2/22/21', '2/23/21', '2/24/21', '2/25/21', '2/26/21', '2/27/21', '2/28/21', '3/1/21', '3/2/21', '3/3/21', '3/4/21', '3/5/21', '3/6/21', '3/7/21', '3/8/21', '3/9/21', '3/10/21', '3/11/21', '3/12/21', '3/13/21', '3/14/21', '3/15/21', '3/16/21', '3/17/21', '3/18/21', '3/19/21', '3/20/21', '3/21/21', '3/22/21', '3/23/21', '3/24/21', '3/25/21', '3/26/21', '3/27/21', '3/28/21', '3/29/21', '3/30/21', '3/31/21', '4/1/21', '4/2/21', '4/3/21', '4/4/21', '4/5/21', '4/6/21', '4/7/21', '4/8/21', '4/9/21', '4/10/21', '4/11/21', '4/12/21', '4/13/21', '4/14/21', '4/15/21', '4/16/21', '4/17/21', '4/18/21', '4/19/21', '4/20/21', '4/21/21', '4/22/21', '4/23/21', '4/24/21', '4/25/21', '4/26/21', '4/27/21', '4/28/21', '4/29/21', '4/30/21', '5/1/21', '5/2/21', '5/3/21', '5/4/21', '5/5/21', '5/6/21', '5/7/21', '5/8/21', '5/9/21', '5/10/21', '5/11/21', '5/12/21', '5/13/21', '5/14/21', '5/15/21', '5/16/21', '5/17/21', '5/18/21', '5/19/21', '5/20/21', '5/21/21', '5/22/21', '5/23/21', '5/24/21', '5/25/21', '5/26/21', '5/27/21', '5/28/21', '5/29/21']\n",
            "Confirmed data types:\n",
            "Province/State     object\n",
            "Country/Region     object\n",
            "Lat               float64\n",
            "Long              float64\n",
            "1/22/20             int64\n",
            "                   ...   \n",
            "5/25/21             int64\n",
            "5/26/21             int64\n",
            "5/27/21             int64\n",
            "5/28/21             int64\n",
            "5/29/21             int64\n",
            "Length: 498, dtype: object\n",
            "\n",
            "\n",
            "\n",
            "Deaths shape: (276, 498)\n",
            "Deaths columns: ['Province/State', 'Country/Region', 'Lat', 'Long', '1/22/20', '1/23/20', '1/24/20', '1/25/20', '1/26/20', '1/27/20', '1/28/20', '1/29/20', '1/30/20', '1/31/20', '2/1/20', '2/2/20', '2/3/20', '2/4/20', '2/5/20', '2/6/20', '2/7/20', '2/8/20', '2/9/20', '2/10/20', '2/11/20', '2/12/20', '2/13/20', '2/14/20', '2/15/20', '2/16/20', '2/17/20', '2/18/20', '2/19/20', '2/20/20', '2/21/20', '2/22/20', '2/23/20', '2/24/20', '2/25/20', '2/26/20', '2/27/20', '2/28/20', '2/29/20', '3/1/20', '3/2/20', '3/3/20', '3/4/20', '3/5/20', '3/6/20', '3/7/20', '3/8/20', '3/9/20', '3/10/20', '3/11/20', '3/12/20', '3/13/20', '3/14/20', '3/15/20', '3/16/20', '3/17/20', '3/18/20', '3/19/20', '3/20/20', '3/21/20', '3/22/20', '3/23/20', '3/24/20', '3/25/20', '3/26/20', '3/27/20', '3/28/20', '3/29/20', '3/30/20', '3/31/20', '4/1/20', '4/2/20', '4/3/20', '4/4/20', '4/5/20', '4/6/20', '4/7/20', '4/8/20', '4/9/20', '4/10/20', '4/11/20', '4/12/20', '4/13/20', '4/14/20', '4/15/20', '4/16/20', '4/17/20', '4/18/20', '4/19/20', '4/20/20', '4/21/20', '4/22/20', '4/23/20', '4/24/20', '4/25/20', '4/26/20', '4/27/20', '4/28/20', '4/29/20', '4/30/20', '5/1/20', '5/2/20', '5/3/20', '5/4/20', '5/5/20', '5/6/20', '5/7/20', '5/8/20', '5/9/20', '5/10/20', '5/11/20', '5/12/20', '5/13/20', '5/14/20', '5/15/20', '5/16/20', '5/17/20', '5/18/20', '5/19/20', '5/20/20', '5/21/20', '5/22/20', '5/23/20', '5/24/20', '5/25/20', '5/26/20', '5/27/20', '5/28/20', '5/29/20', '5/30/20', '5/31/20', '6/1/20', '6/2/20', '6/3/20', '6/4/20', '6/5/20', '6/6/20', '6/7/20', '6/8/20', '6/9/20', '6/10/20', '6/11/20', '6/12/20', '6/13/20', '6/14/20', '6/15/20', '6/16/20', '6/17/20', '6/18/20', '6/19/20', '6/20/20', '6/21/20', '6/22/20', '6/23/20', '6/24/20', '6/25/20', '6/26/20', '6/27/20', '6/28/20', '6/29/20', '6/30/20', '7/1/20', '7/2/20', '7/3/20', '7/4/20', '7/5/20', '7/6/20', '7/7/20', '7/8/20', '7/9/20', '7/10/20', '7/11/20', '7/12/20', '7/13/20', '7/14/20', '7/15/20', '7/16/20', '7/17/20', '7/18/20', '7/19/20', '7/20/20', '7/21/20', '7/22/20', '7/23/20', '7/24/20', '7/25/20', '7/26/20', '7/27/20', '7/28/20', '7/29/20', '7/30/20', '7/31/20', '8/1/20', '8/2/20', '8/3/20', '8/4/20', '8/5/20', '8/6/20', '8/7/20', '8/8/20', '8/9/20', '8/10/20', '8/11/20', '8/12/20', '8/13/20', '8/14/20', '8/15/20', '8/16/20', '8/17/20', '8/18/20', '8/19/20', '8/20/20', '8/21/20', '8/22/20', '8/23/20', '8/24/20', '8/25/20', '8/26/20', '8/27/20', '8/28/20', '8/29/20', '8/30/20', '8/31/20', '9/1/20', '9/2/20', '9/3/20', '9/4/20', '9/5/20', '9/6/20', '9/7/20', '9/8/20', '9/9/20', '9/10/20', '9/11/20', '9/12/20', '9/13/20', '9/14/20', '9/15/20', '9/16/20', '9/17/20', '9/18/20', '9/19/20', '9/20/20', '9/21/20', '9/22/20', '9/23/20', '9/24/20', '9/25/20', '9/26/20', '9/27/20', '9/28/20', '9/29/20', '9/30/20', '10/1/20', '10/2/20', '10/3/20', '10/4/20', '10/5/20', '10/6/20', '10/7/20', '10/8/20', '10/9/20', '10/10/20', '10/11/20', '10/12/20', '10/13/20', '10/14/20', '10/15/20', '10/16/20', '10/17/20', '10/18/20', '10/19/20', '10/20/20', '10/21/20', '10/22/20', '10/23/20', '10/24/20', '10/25/20', '10/26/20', '10/27/20', '10/28/20', '10/29/20', '10/30/20', '10/31/20', '11/1/20', '11/2/20', '11/3/20', '11/4/20', '11/5/20', '11/6/20', '11/7/20', '11/8/20', '11/9/20', '11/10/20', '11/11/20', '11/12/20', '11/13/20', '11/14/20', '11/15/20', '11/16/20', '11/17/20', '11/18/20', '11/19/20', '11/20/20', '11/21/20', '11/22/20', '11/23/20', '11/24/20', '11/25/20', '11/26/20', '11/27/20', '11/28/20', '11/29/20', '11/30/20', '12/1/20', '12/2/20', '12/3/20', '12/4/20', '12/5/20', '12/6/20', '12/7/20', '12/8/20', '12/9/20', '12/10/20', '12/11/20', '12/12/20', '12/13/20', '12/14/20', '12/15/20', '12/16/20', '12/17/20', '12/18/20', '12/19/20', '12/20/20', '12/21/20', '12/22/20', '12/23/20', '12/24/20', '12/25/20', '12/26/20', '12/27/20', '12/28/20', '12/29/20', '12/30/20', '12/31/20', '1/1/21', '1/2/21', '1/3/21', '1/4/21', '1/5/21', '1/6/21', '1/7/21', '1/8/21', '1/9/21', '1/10/21', '1/11/21', '1/12/21', '1/13/21', '1/14/21', '1/15/21', '1/16/21', '1/17/21', '1/18/21', '1/19/21', '1/20/21', '1/21/21', '1/22/21', '1/23/21', '1/24/21', '1/25/21', '1/26/21', '1/27/21', '1/28/21', '1/29/21', '1/30/21', '1/31/21', '2/1/21', '2/2/21', '2/3/21', '2/4/21', '2/5/21', '2/6/21', '2/7/21', '2/8/21', '2/9/21', '2/10/21', '2/11/21', '2/12/21', '2/13/21', '2/14/21', '2/15/21', '2/16/21', '2/17/21', '2/18/21', '2/19/21', '2/20/21', '2/21/21', '2/22/21', '2/23/21', '2/24/21', '2/25/21', '2/26/21', '2/27/21', '2/28/21', '3/1/21', '3/2/21', '3/3/21', '3/4/21', '3/5/21', '3/6/21', '3/7/21', '3/8/21', '3/9/21', '3/10/21', '3/11/21', '3/12/21', '3/13/21', '3/14/21', '3/15/21', '3/16/21', '3/17/21', '3/18/21', '3/19/21', '3/20/21', '3/21/21', '3/22/21', '3/23/21', '3/24/21', '3/25/21', '3/26/21', '3/27/21', '3/28/21', '3/29/21', '3/30/21', '3/31/21', '4/1/21', '4/2/21', '4/3/21', '4/4/21', '4/5/21', '4/6/21', '4/7/21', '4/8/21', '4/9/21', '4/10/21', '4/11/21', '4/12/21', '4/13/21', '4/14/21', '4/15/21', '4/16/21', '4/17/21', '4/18/21', '4/19/21', '4/20/21', '4/21/21', '4/22/21', '4/23/21', '4/24/21', '4/25/21', '4/26/21', '4/27/21', '4/28/21', '4/29/21', '4/30/21', '5/1/21', '5/2/21', '5/3/21', '5/4/21', '5/5/21', '5/6/21', '5/7/21', '5/8/21', '5/9/21', '5/10/21', '5/11/21', '5/12/21', '5/13/21', '5/14/21', '5/15/21', '5/16/21', '5/17/21', '5/18/21', '5/19/21', '5/20/21', '5/21/21', '5/22/21', '5/23/21', '5/24/21', '5/25/21', '5/26/21', '5/27/21', '5/28/21', '5/29/21']\n",
            "Deaths data types:\n",
            "Province/State     object\n",
            "Country/Region     object\n",
            "Lat               float64\n",
            "Long              float64\n",
            "1/22/20             int64\n",
            "                   ...   \n",
            "5/25/21             int64\n",
            "5/26/21             int64\n",
            "5/27/21             int64\n",
            "5/28/21             int64\n",
            "5/29/21             int64\n",
            "Length: 498, dtype: object\n",
            "\n",
            "\n",
            "\n",
            "Recovered shape: (261, 498)\n",
            "Recovered columns: ['Province/State', 'Country/Region', 'Lat', 'Long', '1/22/20', '1/23/20', '1/24/20', '1/25/20', '1/26/20', '1/27/20', '1/28/20', '1/29/20', '1/30/20', '1/31/20', '2/1/20', '2/2/20', '2/3/20', '2/4/20', '2/5/20', '2/6/20', '2/7/20', '2/8/20', '2/9/20', '2/10/20', '2/11/20', '2/12/20', '2/13/20', '2/14/20', '2/15/20', '2/16/20', '2/17/20', '2/18/20', '2/19/20', '2/20/20', '2/21/20', '2/22/20', '2/23/20', '2/24/20', '2/25/20', '2/26/20', '2/27/20', '2/28/20', '2/29/20', '3/1/20', '3/2/20', '3/3/20', '3/4/20', '3/5/20', '3/6/20', '3/7/20', '3/8/20', '3/9/20', '3/10/20', '3/11/20', '3/12/20', '3/13/20', '3/14/20', '3/15/20', '3/16/20', '3/17/20', '3/18/20', '3/19/20', '3/20/20', '3/21/20', '3/22/20', '3/23/20', '3/24/20', '3/25/20', '3/26/20', '3/27/20', '3/28/20', '3/29/20', '3/30/20', '3/31/20', '4/1/20', '4/2/20', '4/3/20', '4/4/20', '4/5/20', '4/6/20', '4/7/20', '4/8/20', '4/9/20', '4/10/20', '4/11/20', '4/12/20', '4/13/20', '4/14/20', '4/15/20', '4/16/20', '4/17/20', '4/18/20', '4/19/20', '4/20/20', '4/21/20', '4/22/20', '4/23/20', '4/24/20', '4/25/20', '4/26/20', '4/27/20', '4/28/20', '4/29/20', '4/30/20', '5/1/20', '5/2/20', '5/3/20', '5/4/20', '5/5/20', '5/6/20', '5/7/20', '5/8/20', '5/9/20', '5/10/20', '5/11/20', '5/12/20', '5/13/20', '5/14/20', '5/15/20', '5/16/20', '5/17/20', '5/18/20', '5/19/20', '5/20/20', '5/21/20', '5/22/20', '5/23/20', '5/24/20', '5/25/20', '5/26/20', '5/27/20', '5/28/20', '5/29/20', '5/30/20', '5/31/20', '6/1/20', '6/2/20', '6/3/20', '6/4/20', '6/5/20', '6/6/20', '6/7/20', '6/8/20', '6/9/20', '6/10/20', '6/11/20', '6/12/20', '6/13/20', '6/14/20', '6/15/20', '6/16/20', '6/17/20', '6/18/20', '6/19/20', '6/20/20', '6/21/20', '6/22/20', '6/23/20', '6/24/20', '6/25/20', '6/26/20', '6/27/20', '6/28/20', '6/29/20', '6/30/20', '7/1/20', '7/2/20', '7/3/20', '7/4/20', '7/5/20', '7/6/20', '7/7/20', '7/8/20', '7/9/20', '7/10/20', '7/11/20', '7/12/20', '7/13/20', '7/14/20', '7/15/20', '7/16/20', '7/17/20', '7/18/20', '7/19/20', '7/20/20', '7/21/20', '7/22/20', '7/23/20', '7/24/20', '7/25/20', '7/26/20', '7/27/20', '7/28/20', '7/29/20', '7/30/20', '7/31/20', '8/1/20', '8/2/20', '8/3/20', '8/4/20', '8/5/20', '8/6/20', '8/7/20', '8/8/20', '8/9/20', '8/10/20', '8/11/20', '8/12/20', '8/13/20', '8/14/20', '8/15/20', '8/16/20', '8/17/20', '8/18/20', '8/19/20', '8/20/20', '8/21/20', '8/22/20', '8/23/20', '8/24/20', '8/25/20', '8/26/20', '8/27/20', '8/28/20', '8/29/20', '8/30/20', '8/31/20', '9/1/20', '9/2/20', '9/3/20', '9/4/20', '9/5/20', '9/6/20', '9/7/20', '9/8/20', '9/9/20', '9/10/20', '9/11/20', '9/12/20', '9/13/20', '9/14/20', '9/15/20', '9/16/20', '9/17/20', '9/18/20', '9/19/20', '9/20/20', '9/21/20', '9/22/20', '9/23/20', '9/24/20', '9/25/20', '9/26/20', '9/27/20', '9/28/20', '9/29/20', '9/30/20', '10/1/20', '10/2/20', '10/3/20', '10/4/20', '10/5/20', '10/6/20', '10/7/20', '10/8/20', '10/9/20', '10/10/20', '10/11/20', '10/12/20', '10/13/20', '10/14/20', '10/15/20', '10/16/20', '10/17/20', '10/18/20', '10/19/20', '10/20/20', '10/21/20', '10/22/20', '10/23/20', '10/24/20', '10/25/20', '10/26/20', '10/27/20', '10/28/20', '10/29/20', '10/30/20', '10/31/20', '11/1/20', '11/2/20', '11/3/20', '11/4/20', '11/5/20', '11/6/20', '11/7/20', '11/8/20', '11/9/20', '11/10/20', '11/11/20', '11/12/20', '11/13/20', '11/14/20', '11/15/20', '11/16/20', '11/17/20', '11/18/20', '11/19/20', '11/20/20', '11/21/20', '11/22/20', '11/23/20', '11/24/20', '11/25/20', '11/26/20', '11/27/20', '11/28/20', '11/29/20', '11/30/20', '12/1/20', '12/2/20', '12/3/20', '12/4/20', '12/5/20', '12/6/20', '12/7/20', '12/8/20', '12/9/20', '12/10/20', '12/11/20', '12/12/20', '12/13/20', '12/14/20', '12/15/20', '12/16/20', '12/17/20', '12/18/20', '12/19/20', '12/20/20', '12/21/20', '12/22/20', '12/23/20', '12/24/20', '12/25/20', '12/26/20', '12/27/20', '12/28/20', '12/29/20', '12/30/20', '12/31/20', '1/1/21', '1/2/21', '1/3/21', '1/4/21', '1/5/21', '1/6/21', '1/7/21', '1/8/21', '1/9/21', '1/10/21', '1/11/21', '1/12/21', '1/13/21', '1/14/21', '1/15/21', '1/16/21', '1/17/21', '1/18/21', '1/19/21', '1/20/21', '1/21/21', '1/22/21', '1/23/21', '1/24/21', '1/25/21', '1/26/21', '1/27/21', '1/28/21', '1/29/21', '1/30/21', '1/31/21', '2/1/21', '2/2/21', '2/3/21', '2/4/21', '2/5/21', '2/6/21', '2/7/21', '2/8/21', '2/9/21', '2/10/21', '2/11/21', '2/12/21', '2/13/21', '2/14/21', '2/15/21', '2/16/21', '2/17/21', '2/18/21', '2/19/21', '2/20/21', '2/21/21', '2/22/21', '2/23/21', '2/24/21', '2/25/21', '2/26/21', '2/27/21', '2/28/21', '3/1/21', '3/2/21', '3/3/21', '3/4/21', '3/5/21', '3/6/21', '3/7/21', '3/8/21', '3/9/21', '3/10/21', '3/11/21', '3/12/21', '3/13/21', '3/14/21', '3/15/21', '3/16/21', '3/17/21', '3/18/21', '3/19/21', '3/20/21', '3/21/21', '3/22/21', '3/23/21', '3/24/21', '3/25/21', '3/26/21', '3/27/21', '3/28/21', '3/29/21', '3/30/21', '3/31/21', '4/1/21', '4/2/21', '4/3/21', '4/4/21', '4/5/21', '4/6/21', '4/7/21', '4/8/21', '4/9/21', '4/10/21', '4/11/21', '4/12/21', '4/13/21', '4/14/21', '4/15/21', '4/16/21', '4/17/21', '4/18/21', '4/19/21', '4/20/21', '4/21/21', '4/22/21', '4/23/21', '4/24/21', '4/25/21', '4/26/21', '4/27/21', '4/28/21', '4/29/21', '4/30/21', '5/1/21', '5/2/21', '5/3/21', '5/4/21', '5/5/21', '5/6/21', '5/7/21', '5/8/21', '5/9/21', '5/10/21', '5/11/21', '5/12/21', '5/13/21', '5/14/21', '5/15/21', '5/16/21', '5/17/21', '5/18/21', '5/19/21', '5/20/21', '5/21/21', '5/22/21', '5/23/21', '5/24/21', '5/25/21', '5/26/21', '5/27/21', '5/28/21', '5/29/21']\n",
            "Recovered data types:\n",
            "Province/State     object\n",
            "Country/Region     object\n",
            "Lat               float64\n",
            "Long              float64\n",
            "1/22/20             int64\n",
            "                   ...   \n",
            "5/25/21             int64\n",
            "5/26/21             int64\n",
            "5/27/21             int64\n",
            "5/28/21             int64\n",
            "5/29/21             int64\n",
            "Length: 498, dtype: object\n"
          ]
        }
      ]
    },
    {
      "cell_type": "markdown",
      "source": [
        "# Question:-2.2 plot of confirmed case over time for top contries"
      ],
      "metadata": {
        "id": "XYTw91EeWc92"
      }
    },
    {
      "cell_type": "code",
      "source": [
        "import matplotlib.pyplot as plt\n",
        "\n",
        "# Melt the data to long format\n",
        "confirmed_melted = confirmed.melt(id_vars=['Province/State', 'Country/Region', 'Lat', 'Long'],\n",
        "                                  var_name='Date', value_name='Confirmed')\n",
        "confirmed_melted['Date'] = pd.to_datetime(confirmed_melted['Date'])\n",
        "\n",
        "# Aggregate by country and date\n",
        "country_time = confirmed_melted.groupby(['Country/Region', 'Date'])['Confirmed'].sum().reset_index()\n",
        "\n",
        "# Get top 5 countries by last available date\n",
        "latest = country_time[country_time['Date'] == country_time['Date'].max()]\n",
        "top_countries = latest.sort_values('Confirmed', ascending=False).head(5)['Country/Region']\n",
        "\n",
        "plt.figure(figsize=(12,6))\n",
        "for country in top_countries:\n",
        "    subset = country_time[country_time['Country/Region'] == country]\n",
        "    plt.plot(subset['Date'], subset['Confirmed'], label=country)\n",
        "\n",
        "plt.title('Top 5 Countries: Confirmed Cases Over Time')\n",
        "plt.xlabel('Date')\n",
        "plt.ylabel('Confirmed Cases')\n",
        "plt.legend()\n",
        "plt.show()"
      ],
      "metadata": {
        "colab": {
          "base_uri": "https://localhost:8080/",
          "height": 619
        },
        "id": "fg3x4x8oV3bK",
        "outputId": "e5d63bdb-473b-40cd-84e0-b3dbc32262ea"
      },
      "execution_count": 9,
      "outputs": [
        {
          "output_type": "stream",
          "name": "stderr",
          "text": [
            "<ipython-input-9-7fa25ecaf630>:6: UserWarning: Could not infer format, so each element will be parsed individually, falling back to `dateutil`. To ensure parsing is consistent and as-expected, please specify a format.\n",
            "  confirmed_melted['Date'] = pd.to_datetime(confirmed_melted['Date'])\n"
          ]
        },
        {
          "output_type": "display_data",
          "data": {
            "text/plain": [
              "<Figure size 1200x600 with 1 Axes>"
            ],
            "image/png": "[encoded data removed]"
          },
          "metadata": {}
        }
      ]
    },
    {
      "cell_type": "markdown",
      "source": [
        "# Question 2.3 :- Confirmed case over time in China"
      ],
      "metadata": {
        "id": "JVmiws4tXCLf"
      }
    },
    {
      "cell_type": "code",
      "source": [
        "china = country_time[country_time['Country/Region'] == 'China']\n",
        "plt.figure(figsize=(10,5))\n",
        "plt.plot(china['Date'], china['Confirmed'], marker='o')\n",
        "plt.title('Confirmed Cases in China Over Time')\n",
        "plt.xlabel('Date')\n",
        "plt.ylabel('Confirmed Cases')\n",
        "plt.grid(True)\n",
        "plt.show()"
      ],
      "metadata": {
        "colab": {
          "base_uri": "https://localhost:8080/",
          "height": 487
        },
        "id": "elN6VFCxW0b5",
        "outputId": "8aad0428-bde8-4fc3-935c-14395f54d4e8"
      },
      "execution_count": 10,
      "outputs": [
        {
          "output_type": "display_data",
          "data": {
            "text/plain": [
              "<Figure size 1000x500 with 1 Axes>"
            ],
            "image/png": "[encoded data removed]"
          },
          "metadata": {}
        }
      ]
    },
    {
      "cell_type": "markdown",
      "source": [
        "# Question 3:- Handling Missing values"
      ],
      "metadata": {
        "id": "vOi4ewZAXYcu"
      }
    },
    {
      "cell_type": "code",
      "source": [
        "# Check for missing values\n",
        "print(\"Missing values in confirmed:\\n\", confirmed.isnull().sum())\n",
        "print('\\n')\n",
        "print(\"Missing values in deaths:\\n\", deaths.isnull().sum())\n",
        "print('\\n')\n",
        "print(\"Missing values in recovered:\\n\", recovered.isnull().sum())\n",
        "print('\\n')\n",
        "\n",
        "# Impute missing values using forward fill\n",
        "confirmed_ffill = confirmed.fillna(method='ffill', axis=1)\n",
        "deaths_ffill = deaths.fillna(method='ffill', axis=1)\n",
        "recovered_ffill = recovered.fillna(method='ffill', axis=1)\n",
        "\n",
        "# Confirm no missing values remain\n",
        "print(\"After imputation, missing in confirmed:\\n\", confirmed_ffill.isnull().sum())"
      ],
      "metadata": {
        "colab": {
          "base_uri": "https://localhost:8080/"
        },
        "id": "GLmY3uXuXQVt",
        "outputId": "3bc20948-66a9-4412-cd36-a283db85e96b"
      },
      "execution_count": 11,
      "outputs": [
        {
          "output_type": "stream",
          "name": "stdout",
          "text": [
            "Missing values in confirmed:\n",
            " Province/State    190\n",
            "Country/Region      0\n",
            "Lat                 2\n",
            "Long                2\n",
            "1/22/20             0\n",
            "                 ... \n",
            "5/25/21             0\n",
            "5/26/21             0\n",
            "5/27/21             0\n",
            "5/28/21             0\n",
            "5/29/21             0\n",
            "Length: 498, dtype: int64\n",
            "\n",
            "\n",
            "Missing values in deaths:\n",
            " Province/State    190\n",
            "Country/Region      0\n",
            "Lat                 2\n",
            "Long                2\n",
            "1/22/20             0\n",
            "                 ... \n",
            "5/25/21             0\n",
            "5/26/21             0\n",
            "5/27/21             0\n",
            "5/28/21             0\n",
            "5/29/21             0\n",
            "Length: 498, dtype: int64\n",
            "\n",
            "\n",
            "Missing values in recovered:\n",
            " Province/State    191\n",
            "Country/Region      0\n",
            "Lat                 1\n",
            "Long                1\n",
            "1/22/20             0\n",
            "                 ... \n",
            "5/25/21             0\n",
            "5/26/21             0\n",
            "5/27/21             0\n",
            "5/28/21             0\n",
            "5/29/21             0\n",
            "Length: 498, dtype: int64\n",
            "\n",
            "\n",
            "After imputation, missing in confirmed:\n",
            " Province/State    190\n",
            "Country/Region      0\n",
            "Lat                 0\n",
            "Long                0\n",
            "1/22/20             0\n",
            "                 ... \n",
            "5/25/21             0\n",
            "5/26/21             0\n",
            "5/27/21             0\n",
            "5/28/21             0\n",
            "5/29/21             0\n",
            "Length: 498, dtype: int64\n"
          ]
        },
        {
          "output_type": "stream",
          "name": "stderr",
          "text": [
            "<ipython-input-11-d14a5245106e>:10: FutureWarning: DataFrame.fillna with 'method' is deprecated and will raise in a future version. Use obj.ffill() or obj.bfill() instead.\n",
            "  confirmed_ffill = confirmed.fillna(method='ffill', axis=1)\n",
            "<ipython-input-11-d14a5245106e>:11: FutureWarning: DataFrame.fillna with 'method' is deprecated and will raise in a future version. Use obj.ffill() or obj.bfill() instead.\n",
            "  deaths_ffill = deaths.fillna(method='ffill', axis=1)\n",
            "<ipython-input-11-d14a5245106e>:12: FutureWarning: DataFrame.fillna with 'method' is deprecated and will raise in a future version. Use obj.ffill() or obj.bfill() instead.\n",
            "  recovered_ffill = recovered.fillna(method='ffill', axis=1)\n"
          ]
        }
      ]
    },
    {
      "cell_type": "code",
      "source": [
        "deaths"
      ],
      "metadata": {
        "colab": {
          "base_uri": "https://localhost:8080/",
          "height": 461
        },
        "id": "hwXsrDM_d5EE",
        "outputId": "6f102064-f78e-4250-f270-a3b44e8c90c5"
      },
      "execution_count": 12,
      "outputs": [
        {
          "output_type": "execute_result",
          "data": {
            "text/plain": [
              "    Province/State      Country/Region        Lat        Long  1/22/20  \\\n",
              "0              NaN         Afghanistan  33.939110   67.709953        0   \n",
              "1              NaN             Albania  41.153300   20.168300        0   \n",
              "2              NaN             Algeria  28.033900    1.659600        0   \n",
              "3              NaN             Andorra  42.506300    1.521800        0   \n",
              "4              NaN              Angola -11.202700   17.873900        0   \n",
              "..             ...                 ...        ...         ...      ...   \n",
              "271            NaN             Vietnam  14.058324  108.277199        0   \n",
              "272            NaN  West Bank and Gaza  31.952200   35.233200        0   \n",
              "273            NaN               Yemen  15.552727   48.516388        0   \n",
              "274            NaN              Zambia -13.133897   27.849332        0   \n",
              "275            NaN            Zimbabwe -19.015438   29.154857        0   \n",
              "\n",
              "     1/23/20  1/24/20  1/25/20  1/26/20  1/27/20  ...  5/20/21  5/21/21  \\\n",
              "0          0        0        0        0        0  ...     2772     2782   \n",
              "1          0        0        0        0        0  ...     2440     2441   \n",
              "2          0        0        0        0        0  ...     3401     3405   \n",
              "3          0        0        0        0        0  ...      127      127   \n",
              "4          0        0        0        0        0  ...      704      709   \n",
              "..       ...      ...      ...      ...      ...  ...      ...      ...   \n",
              "271        0        0        0        0        0  ...       39       41   \n",
              "272        0        0        0        0        0  ...     3448     3452   \n",
              "273        0        0        0        0        0  ...     1301     1302   \n",
              "274        0        0        0        0        0  ...     1265     1266   \n",
              "275        0        0        0        0        0  ...     1585     1586   \n",
              "\n",
              "     5/22/21  5/23/21  5/24/21  5/25/21  5/26/21  5/27/21  5/28/21  5/29/21  \n",
              "0       2792     2802     2812     2836     2855     2869     2881     2899  \n",
              "1       2442     2444     2445     2447     2447     2447     2448     2449  \n",
              "2       3411     3418     3426     3433     3440     3448     3455     3460  \n",
              "3        127      127      127      127      127      127      127      127  \n",
              "4        715      725      731      735      742      745      749      757  \n",
              "..       ...      ...      ...      ...      ...      ...      ...      ...  \n",
              "271       42       43       44       44       45       46       47       47  \n",
              "272     3459     3459     3470     3480     3483     3483     3489     3492  \n",
              "273     1304     1307     1310     1311     1313     1315     1316     1319  \n",
              "274     1267     1268     1271     1271     1273     1275     1275     1276  \n",
              "275     1586     1586     1586     1587     1589     1592     1592     1594  \n",
              "\n",
              "[276 rows x 498 columns]"
            ],
            "text/html": [
              "\n",
              "  <div id=\"df-8b1e2cfa-29da-4a32-b7b5-17d900e02d48\" class=\"colab-df-container\">\n",
              "    <div>\n",
              "<style scoped>\n",
              "    .dataframe tbody tr th:only-of-type {\n",
              "        vertical-align: middle;\n",
              "    }\n",
              "\n",
              "    .dataframe tbody tr th {\n",
              "        vertical-align: top;\n",
              "    }\n",
              "\n",
              "    .dataframe thead th {\n",
              "        text-align: right;\n",
              "    }\n",
              "</style>\n",
              "<table border=\"1\" class=\"dataframe\">\n",
              "  <thead>\n",
              "    <tr style=\"text-align: right;\">\n",
              "      <th></th>\n",
              "      <th>Province/State</th>\n",
              "      <th>Country/Region</th>\n",
              "      <th>Lat</th>\n",
              "      <th>Long</th>\n",
              "      <th>1/22/20</th>\n",
              "      <th>1/23/20</th>\n",
              "      <th>1/24/20</th>\n",
              "      <th>1/25/20</th>\n",
              "      <th>1/26/20</th>\n",
              "      <th>1/27/20</th>\n",
              "      <th>...</th>\n",
              "      <th>5/20/21</th>\n",
              "      <th>5/21/21</th>\n",
              "      <th>5/22/21</th>\n",
              "      <th>5/23/21</th>\n",
              "      <th>5/24/21</th>\n",
              "      <th>5/25/21</th>\n",
              "      <th>5/26/21</th>\n",
              "      <th>5/27/21</th>\n",
              "      <th>5/28/21</th>\n",
              "      <th>5/29/21</th>\n",
              "    </tr>\n",
              "  </thead>\n",
              "  <tbody>\n",
              "    <tr>\n",
              "      <th>0</th>\n",
              "      <td>NaN</td>\n",
              "      <td>Afghanistan</td>\n",
              "      <td>33.939110</td>\n",
              "      <td>67.709953</td>\n",
              "      <td>0</td>\n",
              "      <td>0</td>\n",
              "      <td>0</td>\n",
              "      <td>0</td>\n",
              "      <td>0</td>\n",
              "      <td>0</td>\n",
              "      <td>...</td>\n",
              "      <td>2772</td>\n",
              "      <td>2782</td>\n",
              "      <td>2792</td>\n",
              "      <td>2802</td>\n",
              "      <td>2812</td>\n",
              "      <td>2836</td>\n",
              "      <td>2855</td>\n",
              "      <td>2869</td>\n",
              "      <td>2881</td>\n",
              "      <td>2899</td>\n",
              "    </tr>\n",
              "    <tr>\n",
              "      <th>1</th>\n",
              "      <td>NaN</td>\n",
              "      <td>Albania</td>\n",
              "      <td>41.153300</td>\n",
              "      <td>20.168300</td>\n",
              "      <td>0</td>\n",
              "      <td>0</td>\n",
              "      <td>0</td>\n",
              "      <td>0</td>\n",
              "      <td>0</td>\n",
              "      <td>0</td>\n",
              "      <td>...</td>\n",
              "      <td>2440</td>\n",
              "      <td>2441</td>\n",
              "      <td>2442</td>\n",
              "      <td>2444</td>\n",
              "      <td>2445</td>\n",
              "      <td>2447</td>\n",
              "      <td>2447</td>\n",
              "      <td>2447</td>\n",
              "      <td>2448</td>\n",
              "      <td>2449</td>\n",
              "    </tr>\n",
              "    <tr>\n",
              "      <th>2</th>\n",
              "      <td>NaN</td>\n",
              "      <td>Algeria</td>\n",
              "      <td>28.033900</td>\n",
              "      <td>1.659600</td>\n",
              "      <td>0</td>\n",
              "      <td>0</td>\n",
              "      <td>0</td>\n",
              "      <td>0</td>\n",
              "      <td>0</td>\n",
              "      <td>0</td>\n",
              "      <td>...</td>\n",
              "      <td>3401</td>\n",
              "      <td>3405</td>\n",
              "      <td>3411</td>\n",
              "      <td>3418</td>\n",
              "      <td>3426</td>\n",
              "      <td>3433</td>\n",
              "      <td>3440</td>\n",
              "      <td>3448</td>\n",
              "      <td>3455</td>\n",
              "      <td>3460</td>\n",
              "    </tr>\n",
              "    <tr>\n",
              "      <th>3</th>\n",
              "      <td>NaN</td>\n",
              "      <td>Andorra</td>\n",
              "      <td>42.506300</td>\n",
              "      <td>1.521800</td>\n",
              "      <td>0</td>\n",
              "      <td>0</td>\n",
              "      <td>0</td>\n",
              "      <td>0</td>\n",
              "      <td>0</td>\n",
              "      <td>0</td>\n",
              "      <td>...</td>\n",
              "      <td>127</td>\n",
              "      <td>127</td>\n",
              "      <td>127</td>\n",
              "      <td>127</td>\n",
              "      <td>127</td>\n",
              "      <td>127</td>\n",
              "      <td>127</td>\n",
              "      <td>127</td>\n",
              "      <td>127</td>\n",
              "      <td>127</td>\n",
              "    </tr>\n",
              "    <tr>\n",
              "      <th>4</th>\n",
              "      <td>NaN</td>\n",
              "      <td>Angola</td>\n",
              "      <td>-11.202700</td>\n",
              "      <td>17.873900</td>\n",
              "      <td>0</td>\n",
              "      <td>0</td>\n",
              "      <td>0</td>\n",
              "      <td>0</td>\n",
              "      <td>0</td>\n",
              "      <td>0</td>\n",
              "      <td>...</td>\n",
              "      <td>704</td>\n",
              "      <td>709</td>\n",
              "      <td>715</td>\n",
              "      <td>725</td>\n",
              "      <td>731</td>\n",
              "      <td>735</td>\n",
              "      <td>742</td>\n",
              "      <td>745</td>\n",
              "      <td>749</td>\n",
              "      <td>757</td>\n",
              "    </tr>\n",
              "    <tr>\n",
              "      <th>...</th>\n",
              "      <td>...</td>\n",
              "      <td>...</td>\n",
              "      <td>...</td>\n",
              "      <td>...</td>\n",
              "      <td>...</td>\n",
              "      <td>...</td>\n",
              "      <td>...</td>\n",
              "      <td>...</td>\n",
              "      <td>...</td>\n",
              "      <td>...</td>\n",
              "      <td>...</td>\n",
              "      <td>...</td>\n",
              "      <td>...</td>\n",
              "      <td>...</td>\n",
              "      <td>...</td>\n",
              "      <td>...</td>\n",
              "      <td>...</td>\n",
              "      <td>...</td>\n",
              "      <td>...</td>\n",
              "      <td>...</td>\n",
              "      <td>...</td>\n",
              "    </tr>\n",
              "    <tr>\n",
              "      <th>271</th>\n",
              "      <td>NaN</td>\n",
              "      <td>Vietnam</td>\n",
              "      <td>14.058324</td>\n",
              "      <td>108.277199</td>\n",
              "      <td>0</td>\n",
              "      <td>0</td>\n",
              "      <td>0</td>\n",
              "      <td>0</td>\n",
              "      <td>0</td>\n",
              "      <td>0</td>\n",
              "      <td>...</td>\n",
              "      <td>39</td>\n",
              "      <td>41</td>\n",
              "      <td>42</td>\n",
              "      <td>43</td>\n",
              "      <td>44</td>\n",
              "      <td>44</td>\n",
              "      <td>45</td>\n",
              "      <td>46</td>\n",
              "      <td>47</td>\n",
              "      <td>47</td>\n",
              "    </tr>\n",
              "    <tr>\n",
              "      <th>272</th>\n",
              "      <td>NaN</td>\n",
              "      <td>West Bank and Gaza</td>\n",
              "      <td>31.952200</td>\n",
              "      <td>35.233200</td>\n",
              "      <td>0</td>\n",
              "      <td>0</td>\n",
              "      <td>0</td>\n",
              "      <td>0</td>\n",
              "      <td>0</td>\n",
              "      <td>0</td>\n",
              "      <td>...</td>\n",
              "      <td>3448</td>\n",
              "      <td>3452</td>\n",
              "      <td>3459</td>\n",
              "      <td>3459</td>\n",
              "      <td>3470</td>\n",
              "      <td>3480</td>\n",
              "      <td>3483</td>\n",
              "      <td>3483</td>\n",
              "      <td>3489</td>\n",
              "      <td>3492</td>\n",
              "    </tr>\n",
              "    <tr>\n",
              "      <th>273</th>\n",
              "      <td>NaN</td>\n",
              "      <td>Yemen</td>\n",
              "      <td>15.552727</td>\n",
              "      <td>48.516388</td>\n",
              "      <td>0</td>\n",
              "      <td>0</td>\n",
              "      <td>0</td>\n",
              "      <td>0</td>\n",
              "      <td>0</td>\n",
              "      <td>0</td>\n",
              "      <td>...</td>\n",
              "      <td>1301</td>\n",
              "      <td>1302</td>\n",
              "      <td>1304</td>\n",
              "      <td>1307</td>\n",
              "      <td>1310</td>\n",
              "      <td>1311</td>\n",
              "      <td>1313</td>\n",
              "      <td>1315</td>\n",
              "      <td>1316</td>\n",
              "      <td>1319</td>\n",
              "    </tr>\n",
              "    <tr>\n",
              "      <th>274</th>\n",
              "      <td>NaN</td>\n",
              "      <td>Zambia</td>\n",
              "      <td>-13.133897</td>\n",
              "      <td>27.849332</td>\n",
              "      <td>0</td>\n",
              "      <td>0</td>\n",
              "      <td>0</td>\n",
              "      <td>0</td>\n",
              "      <td>0</td>\n",
              "      <td>0</td>\n",
              "      <td>...</td>\n",
              "      <td>1265</td>\n",
              "      <td>1266</td>\n",
              "      <td>1267</td>\n",
              "      <td>1268</td>\n",
              "      <td>1271</td>\n",
              "      <td>1271</td>\n",
              "      <td>1273</td>\n",
              "      <td>1275</td>\n",
              "      <td>1275</td>\n",
              "      <td>1276</td>\n",
              "    </tr>\n",
              "    <tr>\n",
              "      <th>275</th>\n",
              "      <td>NaN</td>\n",
              "      <td>Zimbabwe</td>\n",
              "      <td>-19.015438</td>\n",
              "      <td>29.154857</td>\n",
              "      <td>0</td>\n",
              "      <td>0</td>\n",
              "      <td>0</td>\n",
              "      <td>0</td>\n",
              "      <td>0</td>\n",
              "      <td>0</td>\n",
              "      <td>...</td>\n",
              "      <td>1585</td>\n",
              "      <td>1586</td>\n",
              "      <td>1586</td>\n",
              "      <td>1586</td>\n",
              "      <td>1586</td>\n",
              "      <td>1587</td>\n",
              "      <td>1589</td>\n",
              "      <td>1592</td>\n",
              "      <td>1592</td>\n",
              "      <td>1594</td>\n",
              "    </tr>\n",
              "  </tbody>\n",
              "</table>\n",
              "<p>276 rows × 498 columns</p>\n",
              "</div>\n",
              "    <div class=\"colab-df-buttons\">\n",
              "\n",
              "  <div class=\"colab-df-container\">\n",
              "    <button class=\"colab-df-convert\" onclick=\"convertToInteractive('df-8b1e2cfa-29da-4a32-b7b5-17d900e02d48')\"\n",
              "            title=\"Convert this dataframe to an interactive table.\"\n",
              "            style=\"display:none;\">\n",
              "\n",
              "  <svg xmlns=\"http://www.w3.org/2000/svg\" height=\"24px\" viewBox=\"0 -960 960 960\">\n",
              "    <path d=\"M120-120v-720h720v720H120Zm60-500h600v-160H180v160Zm220 220h160v-160H400v160Zm0 220h160v-160H400v160ZM180-400h160v-160H180v160Zm440 0h160v-160H620v160ZM180-180h160v-160H180v160Zm440 0h160v-160H620v160Z\"/>\n",
              "  </svg>\n",
              "    </button>\n",
              "\n",
              "  <style>\n",
              "    .colab-df-container {\n",
              "      display:flex;\n",
              "      gap: 12px;\n",
              "    }\n",
              "\n",
              "    .colab-df-convert {\n",
              "      background-color: #E8F0FE;\n",
              "      border: none;\n",
              "      border-radius: 50%;\n",
              "      cursor: pointer;\n",
              "      display: none;\n",
              "      fill: #1967D2;\n",
              "      height: 32px;\n",
              "      padding: 0 0 0 0;\n",
              "      width: 32px;\n",
              "    }\n",
              "\n",
              "    .colab-df-convert:hover {\n",
              "      background-color: #E2EBFA;\n",
              "      box-shadow: 0px 1px 2px rgba(60, 64, 67, 0.3), 0px 1px 3px 1px rgba(60, 64, 67, 0.15);\n",
              "      fill: #174EA6;\n",
              "    }\n",
              "\n",
              "    .colab-df-buttons div {\n",
              "      margin-bottom: 4px;\n",
              "    }\n",
              "\n",
              "    [theme=dark] .colab-df-convert {\n",
              "      background-color: #3B4455;\n",
              "      fill: #D2E3FC;\n",
              "    }\n",
              "\n",
              "    [theme=dark] .colab-df-convert:hover {\n",
              "      background-color: #434B5C;\n",
              "      box-shadow: 0px 1px 3px 1px rgba(0, 0, 0, 0.15);\n",
              "      filter: drop-shadow(0px 1px 2px rgba(0, 0, 0, 0.3));\n",
              "      fill: #FFFFFF;\n",
              "    }\n",
              "  </style>\n",
              "\n",
              "    <script>\n",
              "      const buttonEl =\n",
              "        document.querySelector('#df-8b1e2cfa-29da-4a32-b7b5-17d900e02d48 button.colab-df-convert');\n",
              "      buttonEl.style.display =\n",
              "        google.colab.kernel.accessAllowed ? 'block' : 'none';\n",
              "\n",
              "      async function convertToInteractive(key) {\n",
              "        const element = document.querySelector('#df-8b1e2cfa-29da-4a32-b7b5-17d900e02d48');\n",
              "        const dataTable =\n",
              "          await google.colab.kernel.invokeFunction('convertToInteractive',\n",
              "                                                    [key], {});\n",
              "        if (!dataTable) return;\n",
              "\n",
              "        const docLinkHtml = 'Like what you see? Visit the ' +\n",
              "          '<a target=\"_blank\" href=https://colab.research.google.com/notebooks/data_table.ipynb>data table notebook</a>'\n",
              "          + ' to learn more about interactive tables.';\n",
              "        element.innerHTML = '';\n",
              "        dataTable['output_type'] = 'display_data';\n",
              "        await google.colab.output.renderOutput(dataTable, element);\n",
              "        const docLink = document.createElement('div');\n",
              "        docLink.innerHTML = docLinkHtml;\n",
              "        element.appendChild(docLink);\n",
              "      }\n",
              "    </script>\n",
              "  </div>\n",
              "\n",
              "\n",
              "    <div id=\"df-b4f30c91-b4f8-4a38-9f7e-cb556c7a02ac\">\n",
              "      <button class=\"colab-df-quickchart\" onclick=\"quickchart('df-b4f30c91-b4f8-4a38-9f7e-cb556c7a02ac')\"\n",
              "                title=\"Suggest charts\"\n",
              "                style=\"display:none;\">\n",
              "\n",
              "<svg xmlns=\"http://www.w3.org/2000/svg\" height=\"24px\"viewBox=\"0 0 24 24\"\n",
              "     width=\"24px\">\n",
              "    <g>\n",
              "        <path d=\"M19 3H5c-1.1 0-2 .9-2 2v14c0 1.1.9 2 2 2h14c1.1 0 2-.9 2-2V5c0-1.1-.9-2-2-2zM9 17H7v-7h2v7zm4 0h-2V7h2v10zm4 0h-2v-4h2v4z\"/>\n",
              "    </g>\n",
              "</svg>\n",
              "      </button>\n",
              "\n",
              "<style>\n",
              "  .colab-df-quickchart {\n",
              "      --bg-color: #E8F0FE;\n",
              "      --fill-color: #1967D2;\n",
              "      --hover-bg-color: #E2EBFA;\n",
              "      --hover-fill-color: #174EA6;\n",
              "      --disabled-fill-color: #AAA;\n",
              "      --disabled-bg-color: #DDD;\n",
              "  }\n",
              "\n",
              "  [theme=dark] .colab-df-quickchart {\n",
              "      --bg-color: #3B4455;\n",
              "      --fill-color: #D2E3FC;\n",
              "      --hover-bg-color: #434B5C;\n",
              "      --hover-fill-color: #FFFFFF;\n",
              "      --disabled-bg-color: #3B4455;\n",
              "      --disabled-fill-color: #666;\n",
              "  }\n",
              "\n",
              "  .colab-df-quickchart {\n",
              "    background-color: var(--bg-color);\n",
              "    border: none;\n",
              "    border-radius: 50%;\n",
              "    cursor: pointer;\n",
              "    display: none;\n",
              "    fill: var(--fill-color);\n",
              "    height: 32px;\n",
              "    padding: 0;\n",
              "    width: 32px;\n",
              "  }\n",
              "\n",
              "  .colab-df-quickchart:hover {\n",
              "    background-color: var(--hover-bg-color);\n",
              "    box-shadow: 0 1px 2px rgba(60, 64, 67, 0.3), 0 1px 3px 1px rgba(60, 64, 67, 0.15);\n",
              "    fill: var(--button-hover-fill-color);\n",
              "  }\n",
              "\n",
              "  .colab-df-quickchart-complete:disabled,\n",
              "  .colab-df-quickchart-complete:disabled:hover {\n",
              "    background-color: var(--disabled-bg-color);\n",
              "    fill: var(--disabled-fill-color);\n",
              "    box-shadow: none;\n",
              "  }\n",
              "\n",
              "  .colab-df-spinner {\n",
              "    border: 2px solid var(--fill-color);\n",
              "    border-color: transparent;\n",
              "    border-bottom-color: var(--fill-color);\n",
              "    animation:\n",
              "      spin 1s steps(1) infinite;\n",
              "  }\n",
              "\n",
              "  @keyframes spin {\n",
              "    0% {\n",
              "      border-color: transparent;\n",
              "      border-bottom-color: var(--fill-color);\n",
              "      border-left-color: var(--fill-color);\n",
              "    }\n",
              "    20% {\n",
              "      border-color: transparent;\n",
              "      border-left-color: var(--fill-color);\n",
              "      border-top-color: var(--fill-color);\n",
              "    }\n",
              "    30% {\n",
              "      border-color: transparent;\n",
              "      border-left-color: var(--fill-color);\n",
              "      border-top-color: var(--fill-color);\n",
              "      border-right-color: var(--fill-color);\n",
              "    }\n",
              "    40% {\n",
              "      border-color: transparent;\n",
              "      border-right-color: var(--fill-color);\n",
              "      border-top-color: var(--fill-color);\n",
              "    }\n",
              "    60% {\n",
              "      border-color: transparent;\n",
              "      border-right-color: var(--fill-color);\n",
              "    }\n",
              "    80% {\n",
              "      border-color: transparent;\n",
              "      border-right-color: var(--fill-color);\n",
              "      border-bottom-color: var(--fill-color);\n",
              "    }\n",
              "    90% {\n",
              "      border-color: transparent;\n",
              "      border-bottom-color: var(--fill-color);\n",
              "    }\n",
              "  }\n",
              "</style>\n",
              "\n",
              "      <script>\n",
              "        async function quickchart(key) {\n",
              "          const quickchartButtonEl =\n",
              "            document.querySelector('#' + key + ' button');\n",
              "          quickchartButtonEl.disabled = true;  // To prevent multiple clicks.\n",
              "          quickchartButtonEl.classList.add('colab-df-spinner');\n",
              "          try {\n",
              "            const charts = await google.colab.kernel.invokeFunction(\n",
              "                'suggestCharts', [key], {});\n",
              "          } catch (error) {\n",
              "            console.error('Error during call to suggestCharts:', error);\n",
              "          }\n",
              "          quickchartButtonEl.classList.remove('colab-df-spinner');\n",
              "          quickchartButtonEl.classList.add('colab-df-quickchart-complete');\n",
              "        }\n",
              "        (() => {\n",
              "          let quickchartButtonEl =\n",
              "            document.querySelector('#df-b4f30c91-b4f8-4a38-9f7e-cb556c7a02ac button');\n",
              "          quickchartButtonEl.style.display =\n",
              "            google.colab.kernel.accessAllowed ? 'block' : 'none';\n",
              "        })();\n",
              "      </script>\n",
              "    </div>\n",
              "\n",
              "  <div id=\"id_90562a03-d2d2-45ef-bb63-684aa5bc5ea7\">\n",
              "    <style>\n",
              "      .colab-df-generate {\n",
              "        background-color: #E8F0FE;\n",
              "        border: none;\n",
              "        border-radius: 50%;\n",
              "        cursor: pointer;\n",
              "        display: none;\n",
              "        fill: #1967D2;\n",
              "        height: 32px;\n",
              "        padding: 0 0 0 0;\n",
              "        width: 32px;\n",
              "      }\n",
              "\n",
              "      .colab-df-generate:hover {\n",
              "        background-color: #E2EBFA;\n",
              "        box-shadow: 0px 1px 2px rgba(60, 64, 67, 0.3), 0px 1px 3px 1px rgba(60, 64, 67, 0.15);\n",
              "        fill: #174EA6;\n",
              "      }\n",
              "\n",
              "      [theme=dark] .colab-df-generate {\n",
              "        background-color: #3B4455;\n",
              "        fill: #D2E3FC;\n",
              "      }\n",
              "\n",
              "      [theme=dark] .colab-df-generate:hover {\n",
              "        background-color: #434B5C;\n",
              "        box-shadow: 0px 1px 3px 1px rgba(0, 0, 0, 0.15);\n",
              "        filter: drop-shadow(0px 1px 2px rgba(0, 0, 0, 0.3));\n",
              "        fill: #FFFFFF;\n",
              "      }\n",
              "    </style>\n",
              "    <button class=\"colab-df-generate\" onclick=\"generateWithVariable('deaths')\"\n",
              "            title=\"Generate code using this dataframe.\"\n",
              "            style=\"display:none;\">\n",
              "\n",
              "  <svg xmlns=\"http://www.w3.org/2000/svg\" height=\"24px\"viewBox=\"0 0 24 24\"\n",
              "       width=\"24px\">\n",
              "    <path d=\"M7,19H8.4L18.45,9,17,7.55,7,17.6ZM5,21V16.75L18.45,3.32a2,2,0,0,1,2.83,0l1.4,1.43a1.91,1.91,0,0,1,.58,1.4,1.91,1.91,0,0,1-.58,1.4L9.25,21ZM18.45,9,17,7.55Zm-12,3A5.31,5.31,0,0,0,4.9,8.1,5.31,5.31,0,0,0,1,6.5,5.31,5.31,0,0,0,4.9,4.9,5.31,5.31,0,0,0,6.5,1,5.31,5.31,0,0,0,8.1,4.9,5.31,5.31,0,0,0,12,6.5,5.46,5.46,0,0,0,6.5,12Z\"/>\n",
              "  </svg>\n",
              "    </button>\n",
              "    <script>\n",
              "      (() => {\n",
              "      const buttonEl =\n",
              "        document.querySelector('#id_90562a03-d2d2-45ef-bb63-684aa5bc5ea7 button.colab-df-generate');\n",
              "      buttonEl.style.display =\n",
              "        google.colab.kernel.accessAllowed ? 'block' : 'none';\n",
              "\n",
              "      buttonEl.onclick = () => {\n",
              "        google.colab.notebook.generateWithVariable('deaths');\n",
              "      }\n",
              "      })();\n",
              "    </script>\n",
              "  </div>\n",
              "\n",
              "    </div>\n",
              "  </div>\n"
            ],
            "application/vnd.google.colaboratory.intrinsic+json": {
              "type": "dataframe",
              "variable_name": "deaths"
            }
          },
          "metadata": {},
          "execution_count": 12
        }
      ]
    },
    {
      "cell_type": "markdown",
      "source": [
        "# Question 4: Data Cleaning and Preparation\n",
        "\n",
        "## Question 4.1 :-Replace blank values in the province column with “All Provinces”"
      ],
      "metadata": {
        "id": "wse4a8XeYET7"
      }
    },
    {
      "cell_type": "markdown",
      "source": [
        "## Note:- There was a issue with the dataset in deaths and recovered dataset that the first row header is named as coloumn-1, coulumn-2 etc.. so while fetching the dataset i striped the first row now we can get the coloumn 'Province/State'"
      ],
      "metadata": {
        "id": "UHxE_hkJg_a5"
      }
    },
    {
      "cell_type": "code",
      "source": [
        "# confirmed['Province/State'].isna().sum()\n",
        "\n",
        "# confirmed['Province/State']\n",
        "# deaths['Province/State']\n",
        "# recovered['Province/State']\n",
        "\n",
        "# Replace blank values in 'Province/State' with 'All Provinces'\n",
        "try:\n",
        "  for df in [confirmed, deaths, recovered]:\n",
        "    df['Province/State'] = df['Province/State'].replace('', 'All Provinces')\n",
        "\n",
        "except KeyError as k:\n",
        "    print(\"Key 'Province/State' not found in the DataFrame.\")\n",
        "\n",
        "\n",
        "# Check the changes\n",
        "print(confirmed['Province/State'].unique())\n",
        "print('\\n')\n",
        "print(deaths['Province/State'].unique())\n",
        "print('\\n')\n",
        "print(recovered['Province/State'].unique())\n"
      ],
      "metadata": {
        "colab": {
          "base_uri": "https://localhost:8080/"
        },
        "id": "pGP5j7KsXrn5",
        "outputId": "b2dce6a9-b472-4adb-a892-1249d4793e0c"
      },
      "execution_count": 13,
      "outputs": [
        {
          "output_type": "stream",
          "name": "stdout",
          "text": [
            "[nan 'Australian Capital Territory' 'New South Wales' 'Northern Territory'\n",
            " 'Queensland' 'South Australia' 'Tasmania' 'Victoria' 'Western Australia'\n",
            " 'Alberta' 'British Columbia' 'Diamond Princess' 'Grand Princess'\n",
            " 'Manitoba' 'New Brunswick' 'Newfoundland and Labrador'\n",
            " 'Northwest Territories' 'Nova Scotia' 'Nunavut' 'Ontario'\n",
            " 'Prince Edward Island' 'Quebec' 'Repatriated Travellers' 'Saskatchewan'\n",
            " 'Yukon' 'Anhui' 'Beijing' 'Chongqing' 'Fujian' 'Gansu' 'Guangdong'\n",
            " 'Guangxi' 'Guizhou' 'Hainan' 'Hebei' 'Heilongjiang' 'Henan' 'Hong Kong'\n",
            " 'Hubei' 'Hunan' 'Inner Mongolia' 'Jiangsu' 'Jiangxi' 'Jilin' 'Liaoning'\n",
            " 'Macau' 'Ningxia' 'Qinghai' 'Shaanxi' 'Shandong' 'Shanghai' 'Shanxi'\n",
            " 'Sichuan' 'Tianjin' 'Tibet' 'Unknown' 'Xinjiang' 'Yunnan' 'Zhejiang'\n",
            " 'Faroe Islands' 'Greenland' 'French Guiana' 'French Polynesia'\n",
            " 'Guadeloupe' 'Martinique' 'Mayotte' 'New Caledonia' 'Reunion'\n",
            " 'Saint Barthelemy' 'Saint Pierre and Miquelon' 'St Martin'\n",
            " 'Wallis and Futuna' 'Aruba' 'Bonaire, Sint Eustatius and Saba' 'Curacao'\n",
            " 'Sint Maarten' 'Anguilla' 'Bermuda' 'British Virgin Islands'\n",
            " 'Cayman Islands' 'Channel Islands' 'Falkland Islands (Malvinas)'\n",
            " 'Gibraltar' 'Isle of Man' 'Montserrat'\n",
            " 'Saint Helena, Ascension and Tristan da Cunha' 'Turks and Caicos Islands']\n",
            "\n",
            "\n",
            "[nan 'Australian Capital Territory' 'New South Wales' 'Northern Territory'\n",
            " 'Queensland' 'South Australia' 'Tasmania' 'Victoria' 'Western Australia'\n",
            " 'Alberta' 'British Columbia' 'Diamond Princess' 'Grand Princess'\n",
            " 'Manitoba' 'New Brunswick' 'Newfoundland and Labrador'\n",
            " 'Northwest Territories' 'Nova Scotia' 'Nunavut' 'Ontario'\n",
            " 'Prince Edward Island' 'Quebec' 'Repatriated Travellers' 'Saskatchewan'\n",
            " 'Yukon' 'Anhui' 'Beijing' 'Chongqing' 'Fujian' 'Gansu' 'Guangdong'\n",
            " 'Guangxi' 'Guizhou' 'Hainan' 'Hebei' 'Heilongjiang' 'Henan' 'Hong Kong'\n",
            " 'Hubei' 'Hunan' 'Inner Mongolia' 'Jiangsu' 'Jiangxi' 'Jilin' 'Liaoning'\n",
            " 'Macau' 'Ningxia' 'Qinghai' 'Shaanxi' 'Shandong' 'Shanghai' 'Shanxi'\n",
            " 'Sichuan' 'Tianjin' 'Tibet' 'Unknown' 'Xinjiang' 'Yunnan' 'Zhejiang'\n",
            " 'Faroe Islands' 'Greenland' 'French Guiana' 'French Polynesia'\n",
            " 'Guadeloupe' 'Martinique' 'Mayotte' 'New Caledonia' 'Reunion'\n",
            " 'Saint Barthelemy' 'Saint Pierre and Miquelon' 'St Martin'\n",
            " 'Wallis and Futuna' 'Aruba' 'Bonaire, Sint Eustatius and Saba' 'Curacao'\n",
            " 'Sint Maarten' 'Anguilla' 'Bermuda' 'British Virgin Islands'\n",
            " 'Cayman Islands' 'Channel Islands' 'Falkland Islands (Malvinas)'\n",
            " 'Gibraltar' 'Isle of Man' 'Montserrat'\n",
            " 'Saint Helena, Ascension and Tristan da Cunha' 'Turks and Caicos Islands']\n",
            "\n",
            "\n",
            "[nan 'Australian Capital Territory' 'New South Wales' 'Northern Territory'\n",
            " 'Queensland' 'South Australia' 'Tasmania' 'Victoria' 'Western Australia'\n",
            " 'Anhui' 'Beijing' 'Chongqing' 'Fujian' 'Gansu' 'Guangdong' 'Guangxi'\n",
            " 'Guizhou' 'Hainan' 'Hebei' 'Heilongjiang' 'Henan' 'Hong Kong' 'Hubei'\n",
            " 'Hunan' 'Inner Mongolia' 'Jiangsu' 'Jiangxi' 'Jilin' 'Liaoning' 'Macau'\n",
            " 'Ningxia' 'Qinghai' 'Shaanxi' 'Shandong' 'Shanghai' 'Shanxi' 'Sichuan'\n",
            " 'Tianjin' 'Tibet' 'Unknown' 'Xinjiang' 'Yunnan' 'Zhejiang'\n",
            " 'Faroe Islands' 'Greenland' 'French Guiana' 'French Polynesia'\n",
            " 'Guadeloupe' 'Martinique' 'Mayotte' 'New Caledonia' 'Reunion'\n",
            " 'Saint Barthelemy' 'Saint Pierre and Miquelon' 'St Martin'\n",
            " 'Wallis and Futuna' 'Aruba' 'Bonaire, Sint Eustatius and Saba' 'Curacao'\n",
            " 'Sint Maarten' 'Anguilla' 'Bermuda' 'British Virgin Islands'\n",
            " 'Cayman Islands' 'Channel Islands' 'Falkland Islands (Malvinas)'\n",
            " 'Gibraltar' 'Isle of Man' 'Montserrat'\n",
            " 'Saint Helena, Ascension and Tristan da Cunha' 'Turks and Caicos Islands']\n"
          ]
        }
      ]
    },
    {
      "cell_type": "markdown",
      "source": [
        "# Question 5: Independent Dataset Analysis\n",
        "## Q5.1: Peak daily new cases in Germany, France, and Italy"
      ],
      "metadata": {
        "id": "88o43hY8jRLJ"
      }
    },
    {
      "cell_type": "code",
      "source": [
        "# Melt to long format\n",
        "def melt_covid(df, value_name):\n",
        "    df_long = df.melt(id_vars=['Province/State', 'Country/Region', 'Lat', 'Long'],\n",
        "                      var_name='Date', value_name=value_name)\n",
        "    # Parse dates with correct format\n",
        "    df_long['Date'] = pd.to_datetime(df_long['Date'], format='%m/%d/%y')\n",
        "    return df_long\n",
        "\n",
        "confirmed_long = melt_covid(confirmed, 'Confirmed')\n",
        "deaths_long = melt_covid(deaths, 'Deaths')\n",
        "recovered_long = melt_covid(recovered, 'Recovered')\n",
        "\n",
        "\n",
        "\n",
        "# Aggregate by country and date\n",
        "countries = ['Germany', 'France', 'Italy']\n",
        "country_data = confirmed_long[confirmed_long['Country/Region'].isin(countries)]\n",
        "country_daily = country_data.groupby(['Country/Region', 'Date'])['Confirmed'].sum().reset_index()\n",
        "\n",
        "# Calculate daily new cases\n",
        "country_daily['NewCases'] = country_daily.groupby('Country/Region')['Confirmed'].diff().fillna(0)\n",
        "\n",
        "# Find peak for each country\n",
        "peaks = country_daily.loc[country_daily.groupby('Country/Region')['NewCases'].idxmax()]\n",
        "print(peaks[['Country/Region','Date','NewCases']])\n",
        "\n",
        "# Identify country with highest single-day surge\n",
        "max_peak = peaks.loc[peaks['NewCases'].idxmax()]\n",
        "print(f\"\\nHighest single-day surge: {max_peak['Country/Region']} on {max_peak['Date'].date()} with {int(max_peak['NewCases'])} cases\")\n"
      ],
      "metadata": {
        "colab": {
          "base_uri": "https://localhost:8080/"
        },
        "id": "MOuLhECoc1ZE",
        "outputId": "98496399-610b-47c1-8d19-dc4ceafa9aa3"
      },
      "execution_count": 18,
      "outputs": [
        {
          "output_type": "stream",
          "name": "stdout",
          "text": [
            "     Country/Region       Date  NewCases\n",
            "445          France 2021-04-11  117900.0\n",
            "837         Germany 2020-12-30   49044.0\n",
            "1284          Italy 2020-11-13   40902.0\n",
            "\n",
            "Highest single-day surge: France on 2021-04-11 with 117900 cases\n"
          ]
        }
      ]
    },
    {
      "cell_type": "markdown",
      "source": [
        "## Q5.2: Compare recovery rates for Canada and Australia as of Dec 31, 2020"
      ],
      "metadata": {
        "id": "83OnD-whj4du"
      }
    },
    {
      "cell_type": "code",
      "source": [
        "date = pd.to_datetime('2020-12-31')\n",
        "\n",
        "def get_rate(country):\n",
        "    conf = confirmed_long[(confirmed_long['Country/Region']==country) & (confirmed_long['Date']==date)]['Confirmed'].sum()\n",
        "    rec = recovered_long[(recovered_long['Country/Region']==country) & (recovered_long['Date']==date)]['Recovered'].sum()\n",
        "    rate = rec / conf if conf > 0 else 0\n",
        "    return conf, rec, rate\n",
        "\n",
        "for country in ['Canada', 'Australia']:\n",
        "    conf, rec, rate = get_rate(country)\n",
        "    print(f\"{country}: Confirmed={conf}, Recovered={rec}, Recovery Rate={rate:.2%}\")\n"
      ],
      "metadata": {
        "colab": {
          "base_uri": "https://localhost:8080/"
        },
        "id": "fp8pmr-gjqF5",
        "outputId": "e4fc852c-d67e-4b3d-da36-57760aca530b"
      },
      "execution_count": 19,
      "outputs": [
        {
          "output_type": "stream",
          "name": "stdout",
          "text": [
            "Canada: Confirmed=584409, Recovered=493638.0, Recovery Rate=84.47%\n",
            "Australia: Confirmed=28425, Recovered=22565.0, Recovery Rate=79.38%\n"
          ]
        }
      ]
    },
    {
      "cell_type": "markdown",
      "source": [
        "## Q5.3: Distribution of death rates among Canadian provinces"
      ],
      "metadata": {
        "id": "RtlEurbDk65Q"
      }
    },
    {
      "cell_type": "code",
      "source": [
        "canada_deaths = deaths_long[(deaths_long['Country/Region']=='Canada') & (deaths_long['Date']==date)]\n",
        "canada_conf = confirmed_long[(confirmed_long['Country/Region']=='Canada') & (confirmed_long['Date']==date)]\n",
        "\n",
        "# Merge on Province/State\n",
        "canada_merge = pd.merge(canada_deaths[['Province/State','Deaths']],\n",
        "                        canada_conf[['Province/State','Confirmed']],\n",
        "                        on='Province/State')\n",
        "canada_merge['DeathRate'] = canada_merge['Deaths'] / canada_merge['Confirmed']\n",
        "print(canada_merge[['Province/State','DeathRate']])\n",
        "\n",
        "# Province with highest death rate\n",
        "max_prov = canada_merge.loc[canada_merge['DeathRate'].idxmax()]\n",
        "print(f\"\\nProvince with highest death rate: {max_prov['Province/State']} ({max_prov['DeathRate']:.2%})\")\n"
      ],
      "metadata": {
        "colab": {
          "base_uri": "https://localhost:8080/"
        },
        "id": "za_cKZ2Ij_zR",
        "outputId": "b097b726-ca88-419e-cf11-12f4c50de87f"
      },
      "execution_count": 20,
      "outputs": [
        {
          "output_type": "stream",
          "name": "stdout",
          "text": [
            "               Province/State  DeathRate\n",
            "0                     Alberta   0.010415\n",
            "1            British Columbia   0.017330\n",
            "2            Diamond Princess        inf\n",
            "3              Grand Princess   0.000000\n",
            "4                    Manitoba   0.027004\n",
            "5               New Brunswick   0.015025\n",
            "6   Newfoundland and Labrador   0.010256\n",
            "7       Northwest Territories   0.000000\n",
            "8                 Nova Scotia   0.043742\n",
            "9                     Nunavut   0.003759\n",
            "10                    Ontario   0.024448\n",
            "11       Prince Edward Island   0.000000\n",
            "12                     Quebec   0.041235\n",
            "13     Repatriated Travellers   0.000000\n",
            "14               Saskatchewan   0.010098\n",
            "15                      Yukon   0.016667\n",
            "\n",
            "Province with highest death rate: Diamond Princess (inf%)\n"
          ]
        }
      ]
    },
    {
      "cell_type": "markdown",
      "source": [
        "## Question:- 6 Data Transformation"
      ],
      "metadata": {
        "id": "qVyTDJCTlEwr"
      }
    },
    {
      "cell_type": "code",
      "source": [
        "print(deaths_long.head())\n"
      ],
      "metadata": {
        "colab": {
          "base_uri": "https://localhost:8080/"
        },
        "id": "7kpd0D-jlA3-",
        "outputId": "584b7bad-21b2-4556-c443-b79c369ad5d5"
      },
      "execution_count": 25,
      "outputs": [
        {
          "output_type": "stream",
          "name": "stdout",
          "text": [
            "  Province/State Country/Region       Lat       Long       Date  Deaths\n",
            "0            NaN    Afghanistan  33.93911  67.709953 2020-01-22     0.0\n",
            "1            NaN        Albania  41.15330  20.168300 2020-01-22     0.0\n",
            "2            NaN        Algeria  28.03390   1.659600 2020-01-22     0.0\n",
            "3            NaN        Andorra  42.50630   1.521800 2020-01-22     0.0\n",
            "4            NaN         Angola -11.20270  17.873900 2020-01-22     0.0\n"
          ]
        }
      ]
    },
    {
      "cell_type": "code",
      "source": [
        "latest_date = deaths_long['Date'].max()\n",
        "total_deaths = deaths_long[deaths_long['Date']==latest_date].groupby('Country/Region')['Deaths'].sum().reset_index()\n",
        "print(total_deaths)"
      ],
      "metadata": {
        "colab": {
          "base_uri": "https://localhost:8080/"
        },
        "id": "WvKf-xdOBuOw",
        "outputId": "df25a7ea-d1bf-4434-f641-db00fc0898df"
      },
      "execution_count": 22,
      "outputs": [
        {
          "output_type": "stream",
          "name": "stdout",
          "text": [
            "         Country/Region  Deaths\n",
            "0           Afghanistan  2899.0\n",
            "1               Albania  2449.0\n",
            "2               Algeria  3460.0\n",
            "3               Andorra   127.0\n",
            "4                Angola   757.0\n",
            "..                  ...     ...\n",
            "188             Vietnam    47.0\n",
            "189  West Bank and Gaza  3492.0\n",
            "190               Yemen  1319.0\n",
            "191              Zambia  1276.0\n",
            "192            Zimbabwe  1594.0\n",
            "\n",
            "[193 rows x 2 columns]\n"
          ]
        }
      ]
    },
    {
      "cell_type": "code",
      "source": [
        "daily_deaths = deaths_long.groupby(['Country/Region','Date'])['Deaths'].sum().reset_index()\n",
        "daily_deaths['NewDeaths'] = daily_deaths.groupby('Country/Region')['Deaths'].diff().fillna(0)\n",
        "avg_daily = daily_deaths.groupby('Country/Region')['NewDeaths'].mean().reset_index()\n",
        "top5 = avg_daily.sort_values('NewDeaths', ascending=False).head(5)\n",
        "print(top5)\n"
      ],
      "metadata": {
        "colab": {
          "base_uri": "https://localhost:8080/"
        },
        "id": "5H6Wb5PJB20x",
        "outputId": "e39faadc-efce-4a05-ab1a-0fa188a0ef70"
      },
      "execution_count": 23,
      "outputs": [
        {
          "output_type": "stream",
          "name": "stdout",
          "text": [
            "     Country/Region    NewDeaths\n",
            "179              US  1203.048583\n",
            "23           Brazil   933.313765\n",
            "79            India   659.862348\n",
            "115          Mexico   452.338057\n",
            "183  United Kingdom   259.184211\n"
          ]
        }
      ]
    },
    {
      "cell_type": "code",
      "source": [
        "us_deaths = deaths_long[deaths_long['Country/Region']=='US'].groupby('Date')['Deaths'].sum().reset_index()\n",
        "import matplotlib.pyplot as plt\n",
        "plt.figure(figsize=(10,5))\n",
        "plt.plot(us_deaths['Date'], us_deaths['Deaths'])\n",
        "plt.title('Total Deaths Over Time in the US')\n",
        "plt.xlabel('Date')\n",
        "plt.ylabel('Total Deaths')\n",
        "plt.grid(True)\n",
        "plt.show()"
      ],
      "metadata": {
        "colab": {
          "base_uri": "https://localhost:8080/",
          "height": 487
        },
        "id": "RmQHpzqfB-G4",
        "outputId": "46b36395-c811-4c8b-93ef-03038bd2dd18"
      },
      "execution_count": 24,
      "outputs": [
        {
          "output_type": "display_data",
          "data": {
            "text/plain": [
              "<Figure size 1000x500 with 1 Axes>"
            ],
            "image/png": "[encoded data removed]"
          },
          "metadata": {}
        }
      ]
    },
    {
      "cell_type": "markdown",
      "source": [
        "# Question 7: Data Merging\n",
        "## Q7.1: Merge confirmed, deaths, and recovered on Country/Region and Date"
      ],
      "metadata": {
        "id": "j7CnYM2LCdMF"
      }
    },
    {
      "cell_type": "code",
      "source": [
        "merged = confirmed_long.merge(deaths_long, on=['Province/State','Country/Region','Lat','Long','Date'], how='outer')\n",
        "merged = merged.merge(recovered_long, on=['Province/State','Country/Region','Lat','Long','Date'], how='outer')\n",
        "print(merged.head())"
      ],
      "metadata": {
        "colab": {
          "base_uri": "https://localhost:8080/"
        },
        "id": "0yslWjNMCQAk",
        "outputId": "78810085-76de-47fd-e5c8-4d71c886e822"
      },
      "execution_count": 27,
      "outputs": [
        {
          "output_type": "stream",
          "name": "stdout",
          "text": [
            "  Province/State Country/Region      Lat      Long       Date  Confirmed  \\\n",
            "0        Alberta         Canada  53.9333 -116.5765 2020-01-22        0.0   \n",
            "1        Alberta         Canada  53.9333 -116.5765 2020-01-23        0.0   \n",
            "2        Alberta         Canada  53.9333 -116.5765 2020-01-24        0.0   \n",
            "3        Alberta         Canada  53.9333 -116.5765 2020-01-25        0.0   \n",
            "4        Alberta         Canada  53.9333 -116.5765 2020-01-26        0.0   \n",
            "\n",
            "   Deaths  Recovered  \n",
            "0     0.0        NaN  \n",
            "1     0.0        NaN  \n",
            "2     0.0        NaN  \n",
            "3     0.0        NaN  \n",
            "4     0.0        NaN  \n"
          ]
        }
      ]
    },
    {
      "cell_type": "markdown",
      "source": [
        "## Q7.2: Monthly sum of confirmed, deaths, recoveries per country"
      ],
      "metadata": {
        "id": "8KNH8GhFCyke"
      }
    },
    {
      "cell_type": "code",
      "source": [
        "merged['Month'] = merged['Date'].dt.to_period('M')\n",
        "monthly = merged.groupby(['Country/Region','Month'])[['Confirmed','Deaths','Recovered']].sum().reset_index()\n",
        "print(monthly)"
      ],
      "metadata": {
        "colab": {
          "base_uri": "https://localhost:8080/"
        },
        "id": "FoM57IySCnfg",
        "outputId": "244de79d-a357-4dff-9e61-de0808c437f5"
      },
      "execution_count": 29,
      "outputs": [
        {
          "output_type": "stream",
          "name": "stdout",
          "text": [
            "     Country/Region    Month  Confirmed   Deaths  Recovered\n",
            "0       Afghanistan  2020-01        0.0      0.0        0.0\n",
            "1       Afghanistan  2020-02        6.0      0.0        0.0\n",
            "2       Afghanistan  2020-03     1164.0     27.0       26.0\n",
            "3       Afghanistan  2020-04    27074.0    890.0     2927.0\n",
            "4       Afghanistan  2020-05   225674.0   5007.0    24129.0\n",
            "...             ...      ...        ...      ...        ...\n",
            "3276       Zimbabwe  2021-01   787416.0  23012.0   531530.0\n",
            "3277       Zimbabwe  2021-02   984049.0  38753.0   849842.0\n",
            "3278       Zimbabwe  2021-03  1132264.0  46556.0  1056857.0\n",
            "3279       Zimbabwe  2021-04  1126565.0  46375.0  1050250.0\n",
            "3280       Zimbabwe  2021-05  1118004.0  45855.0  1050714.0\n",
            "\n",
            "[3281 rows x 5 columns]\n"
          ]
        }
      ]
    },
    {
      "cell_type": "markdown",
      "source": [
        "## Q7.3: Monthly progression for US, Italy, Brazil"
      ],
      "metadata": {
        "id": "xsxfz0hYDEs_"
      }
    },
    {
      "cell_type": "code",
      "source": [
        "countries = ['US', 'Italy', 'Brazil']\n",
        "monthly_sel = monthly[monthly['Country/Region'].isin(countries)]\n",
        "print(monthly_sel)\n"
      ],
      "metadata": {
        "colab": {
          "base_uri": "https://localhost:8080/"
        },
        "id": "F6lgrdkEC2dV",
        "outputId": "3c36acac-93d2-4042-f6b5-ea2eb5b3edfb"
      },
      "execution_count": 30,
      "outputs": [
        {
          "output_type": "stream",
          "name": "stdout",
          "text": [
            "     Country/Region    Month    Confirmed      Deaths    Recovered\n",
            "391          Brazil  2020-01          0.0         0.0          0.0\n",
            "392          Brazil  2020-02          5.0         0.0          0.0\n",
            "393          Brazil  2020-03      37127.0       976.0        290.0\n",
            "394          Brazil  2020-04    1048506.0     66571.0     400893.0\n",
            "395          Brazil  2020-05    7944285.0    509030.0    3206734.0\n",
            "396          Brazil  2020-06   28161222.0   1353392.0   14780735.0\n",
            "397          Brazil  2020-07   62641865.0   2370476.0   43861433.0\n",
            "398          Brazil  2020-08  102903896.0   3345405.0   82386569.0\n",
            "399          Brazil  2020-09  132059962.0   4004352.0  114602710.0\n",
            "400          Brazil  2020-10  160991539.0   4732789.0  141354942.0\n",
            "401          Brazil  2020-11  176837421.0   4986319.0  159574214.0\n",
            "402          Brazil  2020-12  218249737.0   5702548.0  193984367.0\n",
            "403          Brazil  2021-01  261187142.0   6483686.0  231929489.0\n",
            "404          Brazil  2021-02  276456100.0   6713342.0  246496738.0\n",
            "405          Brazil  2021-03  361059664.0   8826515.0  318572764.0\n",
            "406          Brazil  2021-04  412565115.0  10952414.0  363175044.0\n",
            "407          Brazil  2021-05  451476923.0  12576769.0  399216803.0\n",
            "1445          Italy  2020-01          2.0         0.0          0.0\n",
            "1446          Italy  2020-02       3966.0       102.0        145.0\n",
            "1447          Italy  2020-03    1209772.0    116616.0     145571.0\n",
            "1448          Italy  2020-04    4928524.0    644171.0    1266518.0\n",
            "1449          Italy  2020-05    6914863.0    973585.0    3706270.0\n",
            "1450          Italy  2020-06    7115232.0   1028841.0    5284972.0\n",
            "1451          Italy  2020-07    7560745.0   1084927.0    6067991.0\n",
            "1452          Italy  2020-08    7919622.0   1095146.0    6319921.0\n",
            "1453          Italy  2020-09    8749361.0   1069880.0    6480454.0\n",
            "1454          Italy  2020-10   13281216.0   1137835.0    7782506.0\n",
            "1455          Italy  2020-11   35324374.0   1385115.0   14088374.0\n",
            "1456          Italy  2020-12   58293082.0   2046224.0   35800929.0\n",
            "1457          Italy  2021-01   72917277.0   2531790.0   53778917.0\n",
            "1458          Italy  2021-02   76429829.0   2622056.0   62397634.0\n",
            "1459          Italy  2021-03  101162913.0   3201000.0   81820395.0\n",
            "1460          Italy  2021-04  114799462.0   3472382.0   96128071.0\n",
            "1461          Italy  2021-05  120086716.0   3591221.0  106730773.0\n",
            "3043             US  2020-01         41.0         0.0          0.0\n",
            "3044             US  2020-02        402.0         1.0         88.0\n",
            "3045             US  2020-03    1120122.0     25980.0      19730.0\n",
            "3046             US  2020-04   19959287.0   1070244.0    1747977.0\n",
            "3047             US  2020-05   45533906.0   2802993.0    8720047.0\n",
            "3048             US  2020-06   64964762.0   3574559.0   17434297.0\n",
            "3049             US  2020-07  111371152.0   4328108.0   34028380.0\n",
            "3050             US  2020-08  166357378.0   5269479.0   56877502.0\n",
            "3051             US  2020-09  199220181.0   5889056.0   75486815.0\n",
            "3052             US  2020-10  251406215.0   6796591.0   99506279.0\n",
            "3053             US  2020-11  339796331.0   7504859.0  128470711.0\n",
            "3054             US  2020-12  528139775.0   9676987.0   74680002.0\n",
            "3055             US  2021-01  730894746.0  12443946.0          0.0\n",
            "3056             US  2021-02  774254261.0  13633706.0          0.0\n",
            "3057             US  2021-03  916643837.0  16649633.0          0.0\n",
            "3058             US  2021-04  944543693.0  16967994.0          0.0\n",
            "3059             US  2021-05  953529915.0  16981908.0          0.0\n"
          ]
        }
      ]
    },
    {
      "cell_type": "markdown",
      "source": [
        "# Question 8: Combined Data Analysis\n",
        "## Q8.1: Three countries with highest average death rates in 2020"
      ],
      "metadata": {
        "id": "7LKrHy42DNR9"
      }
    },
    {
      "cell_type": "code",
      "source": [
        "mask_2020 = (merged['Date'] >= '2020-01-01') & (merged['Date'] <= '2020-12-31')\n",
        "merged_2020 = merged[mask_2020]\n",
        "merged_2020['DeathRate'] = merged_2020['Deaths'] / merged_2020['Confirmed']\n",
        "avg_death_rate = merged_2020.groupby('Country/Region')['DeathRate'].mean().reset_index()\n",
        "top3 = avg_death_rate.sort_values('DeathRate', ascending=False).head(3)\n",
        "print(top3)"
      ],
      "metadata": {
        "colab": {
          "base_uri": "https://localhost:8080/"
        },
        "id": "DbnveCxJDIXm",
        "outputId": "49cbb7de-4255-476f-84bf-34d3c4937ca6"
      },
      "execution_count": 31,
      "outputs": [
        {
          "output_type": "stream",
          "name": "stdout",
          "text": [
            "    Country/Region  DeathRate\n",
            "32          Canada        inf\n",
            "165          Sudan        inf\n",
            "190          Yemen   0.249532\n"
          ]
        },
        {
          "output_type": "stream",
          "name": "stderr",
          "text": [
            "<ipython-input-31-c8d34097694f>:3: SettingWithCopyWarning: \n",
            "A value is trying to be set on a copy of a slice from a DataFrame.\n",
            "Try using .loc[row_indexer,col_indexer] = value instead\n",
            "\n",
            "See the caveats in the documentation: https://pandas.pydata.org/pandas-docs/stable/user_guide/indexing.html#returning-a-view-versus-a-copy\n",
            "  merged_2020['DeathRate'] = merged_2020['Deaths'] / merged_2020['Confirmed']\n"
          ]
        }
      ]
    },
    {
      "cell_type": "markdown",
      "source": [
        "## Q8.2: Total recoveries vs deaths in South Africa"
      ],
      "metadata": {
        "id": "Fin-XidODfqc"
      }
    },
    {
      "cell_type": "code",
      "source": [
        "sa = merged[merged['Country/Region']=='South Africa']\n",
        "total_rec = sa['Recovered'].sum()\n",
        "total_death = sa['Deaths'].sum()\n",
        "print(f\"South Africa: Total Recoveries={total_rec}, Total Deaths={total_death}\")\n"
      ],
      "metadata": {
        "colab": {
          "base_uri": "https://localhost:8080/"
        },
        "id": "x9ijPDWmDWeb",
        "outputId": "489de030-afbb-4c14-ac65-012d143486b7"
      },
      "execution_count": 32,
      "outputs": [
        {
          "output_type": "stream",
          "name": "stdout",
          "text": [
            "South Africa: Total Recoveries=310037573.0, Total Deaths=10250036.0\n"
          ]
        }
      ]
    },
    {
      "cell_type": "markdown",
      "source": [
        "## Q8.3: Monthly recovery ratio for US from Mar 2020 to May 2021"
      ],
      "metadata": {
        "id": "MZT7S5EOD_i4"
      }
    },
    {
      "cell_type": "code",
      "source": [
        "us = merged[merged['Country/Region']=='US']\n",
        "us = us[(us['Date'] >= '2020-03-01') & (us['Date'] <= '2021-05-31')]\n",
        "us['Month'] = us['Date'].dt.to_period('M')\n",
        "monthly_us = us.groupby('Month')[['Recovered','Confirmed']].sum().reset_index()\n",
        "monthly_us['RecoveryRatio'] = monthly_us['Recovered'] / monthly_us['Confirmed']\n",
        "max_month = monthly_us.loc[monthly_us['RecoveryRatio'].idxmax()]\n",
        "print(monthly_us[['Month','RecoveryRatio']])\n",
        "print(f\"\\nHighest recovery ratio: {max_month['Month']} ({max_month['RecoveryRatio']:.2%})\")\n"
      ],
      "metadata": {
        "colab": {
          "base_uri": "https://localhost:8080/"
        },
        "id": "qwwU2Zx3D6ur",
        "outputId": "8fed060f-dd89-45fb-f044-6d42deabc75b"
      },
      "execution_count": 33,
      "outputs": [
        {
          "output_type": "stream",
          "name": "stdout",
          "text": [
            "      Month  RecoveryRatio\n",
            "0   2020-03       0.017614\n",
            "1   2020-04       0.087577\n",
            "2   2020-05       0.191507\n",
            "3   2020-06       0.268365\n",
            "4   2020-07       0.305540\n",
            "5   2020-08       0.341899\n",
            "6   2020-09       0.378911\n",
            "7   2020-10       0.395799\n",
            "8   2020-11       0.378082\n",
            "9   2020-12       0.141402\n",
            "10  2021-01       0.000000\n",
            "11  2021-02       0.000000\n",
            "12  2021-03       0.000000\n",
            "13  2021-04       0.000000\n",
            "14  2021-05       0.000000\n",
            "\n",
            "Highest recovery ratio: 2020-10 (39.58%)\n"
          ]
        }
      ]
    },
    {
      "cell_type": "code",
      "source": [],
      "metadata": {
        "id": "g10_3W5NEDOv"
      },
      "execution_count": null,
      "outputs": []
    }
  ]
}